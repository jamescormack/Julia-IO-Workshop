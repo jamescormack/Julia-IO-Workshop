{
 "cells": [
  {
   "cell_type": "markdown",
   "id": "02d470dd",
   "metadata": {},
   "source": [
    "# Julia File Formats #\n",
    "\n",
    "https://github.com/jamescormack/Julia-IO-Workshop\n",
    "\n",
    "**Contents:**\n",
    "- Working with CSV Files\n",
    "- Working with Excel Files\n",
    "- Working with JSON\n",
    "- Working with HTML/XML\n",
    "- Databases\n",
    "- Cloud API's\n",
    "- Images\n",
    "- Finding Packages"
   ]
  },
  {
   "cell_type": "markdown",
   "id": "antique-colorado",
   "metadata": {},
   "source": [
    "# <span style=\"text-decoration: underline\">Working with CSV Files</span> #"
   ]
  },
  {
   "cell_type": "markdown",
   "id": "ea1f440d",
   "metadata": {},
   "source": [
    "<b>CSV files look like this:</b>\n",
    "\n",
    "```\n",
    "Animal,Colour,Cover\n",
    "bunny,white,fur\n",
    "dragon,green,scales\n",
    "cow,brown,fur\n",
    "pigeon,grey,feathers\n",
    "```"
   ]
  },
  {
   "cell_type": "code",
   "execution_count": 7,
   "id": "permanent-dubai",
   "metadata": {},
   "outputs": [
    {
     "data": {
      "text/plain": [
       "90"
      ]
     },
     "execution_count": 7,
     "metadata": {},
     "output_type": "execute_result"
    }
   ],
   "source": [
    "# Create a CSV file\n",
    "\n",
    "#import Pkg; Pkg.add(\"DataFrames\"); Pkg.add(\"CSV\"); Pkg.add(\"StringEncodings\")\n",
    "using CSV, DataFrames, StringEncodings\n",
    "\n",
    "# specify CSV content for demo\n",
    "my_content =\"\"\"Animal,Colour,Cover\n",
    "bunny,white,fur\n",
    "dragon,green,scales\n",
    "cow,brown,fur\n",
    "pigeon,grey,feathers\"\"\"\n",
    "\n",
    "# Write this content to animals.csv\n",
    "open(\"animals.csv\", \"w\") do out_file\n",
    "    # write will return the number of bytes written to the file\n",
    "    write(out_file, my_content)\n",
    "end"
   ]
  },
  {
   "cell_type": "code",
   "execution_count": 8,
   "id": "c7c55f3d",
   "metadata": {},
   "outputs": [
    {
     "name": "stdout",
     "output_type": "stream",
     "text": [
      "typeof(animals) = DataFrame\n"
     ]
    },
    {
     "data": {
      "text/html": [
       "<div class=\"data-frame\"><p>4 rows × 3 columns</p><table class=\"data-frame\"><thead><tr><th></th><th>Animal</th><th>Colour</th><th>Cover</th></tr><tr><th></th><th title=\"String\">String</th><th title=\"String\">String</th><th title=\"String\">String</th></tr></thead><tbody><tr><th>1</th><td>bunny</td><td>white</td><td>fur</td></tr><tr><th>2</th><td>dragon</td><td>green</td><td>scales</td></tr><tr><th>3</th><td>cow</td><td>brown</td><td>fur</td></tr><tr><th>4</th><td>pigeon</td><td>grey</td><td>feathers</td></tr></tbody></table></div>"
      ],
      "text/latex": [
       "\\begin{tabular}{r|ccc}\n",
       "\t& Animal & Colour & Cover\\\\\n",
       "\t\\hline\n",
       "\t& String & String & String\\\\\n",
       "\t\\hline\n",
       "\t1 & bunny & white & fur \\\\\n",
       "\t2 & dragon & green & scales \\\\\n",
       "\t3 & cow & brown & fur \\\\\n",
       "\t4 & pigeon & grey & feathers \\\\\n",
       "\\end{tabular}\n"
      ],
      "text/plain": [
       "\u001b[1m4×3 DataFrame\u001b[0m\n",
       "\u001b[1m Row \u001b[0m│\u001b[1m Animal \u001b[0m\u001b[1m Colour \u001b[0m\u001b[1m Cover    \u001b[0m\n",
       "\u001b[1m     \u001b[0m│\u001b[90m String \u001b[0m\u001b[90m String \u001b[0m\u001b[90m String   \u001b[0m\n",
       "─────┼──────────────────────────\n",
       "   1 │ bunny   white   fur\n",
       "   2 │ dragon  green   scales\n",
       "   3 │ cow     brown   fur\n",
       "   4 │ pigeon  grey    feathers"
      ]
     },
     "execution_count": 8,
     "metadata": {},
     "output_type": "execute_result"
    }
   ],
   "source": [
    "# Reading a CSV\n",
    "\n",
    "animals = CSV.read(\"animals.csv\", DataFrame)\n",
    "\n",
    "@show typeof(animals)\n",
    "animals"
   ]
  },
  {
   "cell_type": "code",
   "execution_count": 9,
   "id": "81932025",
   "metadata": {},
   "outputs": [
    {
     "data": {
      "text/plain": [
       "IOStream(<file test.csv>)"
      ]
     },
     "execution_count": 9,
     "metadata": {},
     "output_type": "execute_result"
    }
   ],
   "source": [
    "# Writing CSV from DataFrames\n",
    "\n",
    "var = DataFrame(a = [\"Aval\", \"Bval\"], b =[1, 2], c=[3, 4])\n",
    "\n",
    "open(\"test.csv\", \"w\") do io\n",
    "    CSV.write(io, var)\n",
    "end"
   ]
  },
  {
   "cell_type": "code",
   "execution_count": 10,
   "id": "increased-confidentiality",
   "metadata": {},
   "outputs": [
    {
     "name": "stdout",
     "output_type": "stream",
     "text": [
      "Values: Aval, 3\n",
      "Values: Bval, 4\n"
     ]
    }
   ],
   "source": [
    "# Reading from CSV using iterator\n",
    "\n",
    "reader = CSV.File(\"test.csv\")\n",
    "for row in reader\n",
    "    println(\"Values: $(row.a), $(row.c)\")\n",
    "end"
   ]
  },
  {
   "cell_type": "code",
   "execution_count": 11,
   "id": "30946ac0",
   "metadata": {},
   "outputs": [
    {
     "data": {
      "text/html": [
       "<div class=\"data-frame\"><p>2 rows × 3 columns</p><table class=\"data-frame\"><thead><tr><th></th><th>a</th><th>b</th><th>c</th></tr><tr><th></th><th title=\"String\">String</th><th title=\"Int64\">Int64</th><th title=\"Int64\">Int64</th></tr></thead><tbody><tr><th>1</th><td>Aval</td><td>1</td><td>3</td></tr><tr><th>2</th><td>Bval</td><td>2</td><td>4</td></tr></tbody></table></div>"
      ],
      "text/latex": [
       "\\begin{tabular}{r|ccc}\n",
       "\t& a & b & c\\\\\n",
       "\t\\hline\n",
       "\t& String & Int64 & Int64\\\\\n",
       "\t\\hline\n",
       "\t1 & Aval & 1 & 3 \\\\\n",
       "\t2 & Bval & 2 & 4 \\\\\n",
       "\\end{tabular}\n"
      ],
      "text/plain": [
       "\u001b[1m2×3 DataFrame\u001b[0m\n",
       "\u001b[1m Row \u001b[0m│\u001b[1m a      \u001b[0m\u001b[1m b     \u001b[0m\u001b[1m c     \u001b[0m\n",
       "\u001b[1m     \u001b[0m│\u001b[90m String \u001b[0m\u001b[90m Int64 \u001b[0m\u001b[90m Int64 \u001b[0m\n",
       "─────┼──────────────────────\n",
       "   1 │ Aval        1      3\n",
       "   2 │ Bval        2      4"
      ]
     },
     "execution_count": 11,
     "metadata": {},
     "output_type": "execute_result"
    }
   ],
   "source": [
    "# Multiple ways of reading CSV into DataFrames (inc. Angus' examples from previous weeks)\n",
    "\n",
    "df = DataFrame(CSV.File(\"test.csv\"))\n",
    "#OR\n",
    "df = CSV.read(\"test.csv\", DataFrame)\n",
    "#OR\n",
    "df = CSV.File(\"test.csv\", delim=\",\", quotechar='\"', header=1) |> DataFrame\n",
    "\n",
    "# Note: CSV read will also guess parameters for you if you don't specify the parameters"
   ]
  },
  {
   "cell_type": "code",
   "execution_count": 12,
   "id": "1d429e61",
   "metadata": {},
   "outputs": [
    {
     "data": {
      "text/html": [
       "<div class=\"data-frame\"><p>3 rows × 3 columns</p><table class=\"data-frame\"><thead><tr><th></th><th>Column1</th><th>Column2</th><th>Column3</th></tr><tr><th></th><th title=\"String\">String</th><th title=\"String\">String</th><th title=\"String\">String</th></tr></thead><tbody><tr><th>1</th><td>a</td><td>b</td><td>c</td></tr><tr><th>2</th><td>Aval</td><td>1</td><td>3</td></tr><tr><th>3</th><td>Bval</td><td>2</td><td>4</td></tr></tbody></table></div>"
      ],
      "text/latex": [
       "\\begin{tabular}{r|ccc}\n",
       "\t& Column1 & Column2 & Column3\\\\\n",
       "\t\\hline\n",
       "\t& String & String & String\\\\\n",
       "\t\\hline\n",
       "\t1 & a & b & c \\\\\n",
       "\t2 & Aval & 1 & 3 \\\\\n",
       "\t3 & Bval & 2 & 4 \\\\\n",
       "\\end{tabular}\n"
      ],
      "text/plain": [
       "\u001b[1m3×3 DataFrame\u001b[0m\n",
       "\u001b[1m Row \u001b[0m│\u001b[1m Column1 \u001b[0m\u001b[1m Column2 \u001b[0m\u001b[1m Column3 \u001b[0m\n",
       "\u001b[1m     \u001b[0m│\u001b[90m String  \u001b[0m\u001b[90m String  \u001b[0m\u001b[90m String  \u001b[0m\n",
       "─────┼───────────────────────────\n",
       "   1 │ a        b        c\n",
       "   2 │ Aval     1        3\n",
       "   3 │ Bval     2        4"
      ]
     },
     "execution_count": 12,
     "metadata": {},
     "output_type": "execute_result"
    }
   ],
   "source": [
    "# No headers in CSV\n",
    "CSV.read(\"test.csv\", DataFrame, header=false)"
   ]
  },
  {
   "cell_type": "code",
   "execution_count": 13,
   "id": "ecdfdf41",
   "metadata": {},
   "outputs": [
    {
     "data": {
      "text/html": [
       "<div class=\"data-frame\"><p>3 rows × 3 columns</p><table class=\"data-frame\"><thead><tr><th></th><th>Animal</th><th>Colour</th><th>Cover</th></tr><tr><th></th><th title=\"String\">String</th><th title=\"String\">String</th><th title=\"String\">String</th></tr></thead><tbody><tr><th>1</th><td>a</td><td>b</td><td>c</td></tr><tr><th>2</th><td>Aval</td><td>1</td><td>3</td></tr><tr><th>3</th><td>Bval</td><td>2</td><td>4</td></tr></tbody></table></div>"
      ],
      "text/latex": [
       "\\begin{tabular}{r|ccc}\n",
       "\t& Animal & Colour & Cover\\\\\n",
       "\t\\hline\n",
       "\t& String & String & String\\\\\n",
       "\t\\hline\n",
       "\t1 & a & b & c \\\\\n",
       "\t2 & Aval & 1 & 3 \\\\\n",
       "\t3 & Bval & 2 & 4 \\\\\n",
       "\\end{tabular}\n"
      ],
      "text/plain": [
       "\u001b[1m3×3 DataFrame\u001b[0m\n",
       "\u001b[1m Row \u001b[0m│\u001b[1m Animal \u001b[0m\u001b[1m Colour \u001b[0m\u001b[1m Cover  \u001b[0m\n",
       "\u001b[1m     \u001b[0m│\u001b[90m String \u001b[0m\u001b[90m String \u001b[0m\u001b[90m String \u001b[0m\n",
       "─────┼────────────────────────\n",
       "   1 │ a       b       c\n",
       "   2 │ Aval    1       3\n",
       "   3 │ Bval    2       4"
      ]
     },
     "execution_count": 13,
     "metadata": {},
     "output_type": "execute_result"
    }
   ],
   "source": [
    "# Manually specified header names\n",
    "\n",
    "CSV.read(\"test.csv\", DataFrame, header=[\"Animal\", \"Colour\", \"Cover\"])"
   ]
  },
  {
   "cell_type": "code",
   "execution_count": 14,
   "id": "0cd916f5",
   "metadata": {},
   "outputs": [],
   "source": [
    "# My Convenience function, look away, nothing to see here, whats that next item? Reading booleans you say? Wow, looks interesting! Maybe you should look over there?\n",
    "\n",
    "function write_string(path, x)\n",
    "    open(path, \"w\") do out_file\n",
    "        write(out_file, x)\n",
    "    end\n",
    "end\n",
    "\n",
    "# Create my animals.csv for next demo\n",
    "my_animals = \"\"\"Animal,Colour,Cover,Liked\n",
    "bunny,white,fur,Y\n",
    "dragon,green,scales,Y\n",
    "cow,brown,fur,N\n",
    "pigeon,grey,feathers,N\n",
    "pegasus,white,\"feathers,fur\",Y\"\"\"\n",
    "\n",
    "write_string(\"animals_like.csv\", my_animals);"
   ]
  },
  {
   "cell_type": "code",
   "execution_count": 15,
   "id": "8e81f2f9",
   "metadata": {},
   "outputs": [
    {
     "data": {
      "text/html": [
       "<div class=\"data-frame\"><p>5 rows × 4 columns</p><table class=\"data-frame\"><thead><tr><th></th><th>Animal</th><th>Colour</th><th>Cover</th><th>Liked</th></tr><tr><th></th><th title=\"String\">String</th><th title=\"String\">String</th><th title=\"String\">String</th><th title=\"String\">String</th></tr></thead><tbody><tr><th>1</th><td>bunny</td><td>white</td><td>fur</td><td>Y</td></tr><tr><th>2</th><td>dragon</td><td>green</td><td>scales</td><td>Y</td></tr><tr><th>3</th><td>cow</td><td>brown</td><td>fur</td><td>N</td></tr><tr><th>4</th><td>pigeon</td><td>grey</td><td>feathers</td><td>N</td></tr><tr><th>5</th><td>pegasus</td><td>white</td><td>feathers,fur</td><td>Y</td></tr></tbody></table></div>"
      ],
      "text/latex": [
       "\\begin{tabular}{r|cccc}\n",
       "\t& Animal & Colour & Cover & Liked\\\\\n",
       "\t\\hline\n",
       "\t& String & String & String & String\\\\\n",
       "\t\\hline\n",
       "\t1 & bunny & white & fur & Y \\\\\n",
       "\t2 & dragon & green & scales & Y \\\\\n",
       "\t3 & cow & brown & fur & N \\\\\n",
       "\t4 & pigeon & grey & feathers & N \\\\\n",
       "\t5 & pegasus & white & feathers,fur & Y \\\\\n",
       "\\end{tabular}\n"
      ],
      "text/plain": [
       "\u001b[1m5×4 DataFrame\u001b[0m\n",
       "\u001b[1m Row \u001b[0m│\u001b[1m Animal  \u001b[0m\u001b[1m Colour \u001b[0m\u001b[1m Cover        \u001b[0m\u001b[1m Liked  \u001b[0m\n",
       "\u001b[1m     \u001b[0m│\u001b[90m String  \u001b[0m\u001b[90m String \u001b[0m\u001b[90m String       \u001b[0m\u001b[90m String \u001b[0m\n",
       "─────┼───────────────────────────────────────\n",
       "   1 │ bunny    white   fur           Y\n",
       "   2 │ dragon   green   scales        Y\n",
       "   3 │ cow      brown   fur           N\n",
       "   4 │ pigeon   grey    feathers      N\n",
       "   5 │ pegasus  white   feathers,fur  Y"
      ]
     },
     "execution_count": 15,
     "metadata": {},
     "output_type": "execute_result"
    }
   ],
   "source": [
    "# Reading booleans (not booleans in resultant DataFrame)\n",
    "\n",
    "using CSV; using DataFrames;\n",
    "animals_table = CSV.read(\"animals_like.csv\", DataFrame)\n",
    "\n",
    "# Notice that the Liked column is still a string."
   ]
  },
  {
   "cell_type": "code",
   "execution_count": 16,
   "id": "ecb630cf",
   "metadata": {},
   "outputs": [
    {
     "data": {
      "text/html": [
       "<div class=\"data-frame\"><p>5 rows × 4 columns</p><table class=\"data-frame\"><thead><tr><th></th><th>Animal</th><th>Colour</th><th>Cover</th><th>Liked</th></tr><tr><th></th><th title=\"String\">String</th><th title=\"String\">String</th><th title=\"String\">String</th><th title=\"Bool\">Bool</th></tr></thead><tbody><tr><th>1</th><td>bunny</td><td>white</td><td>fur</td><td>1</td></tr><tr><th>2</th><td>dragon</td><td>green</td><td>scales</td><td>1</td></tr><tr><th>3</th><td>cow</td><td>brown</td><td>fur</td><td>0</td></tr><tr><th>4</th><td>pigeon</td><td>grey</td><td>feathers</td><td>0</td></tr><tr><th>5</th><td>pegasus</td><td>white</td><td>feathers,fur</td><td>1</td></tr></tbody></table></div>"
      ],
      "text/latex": [
       "\\begin{tabular}{r|cccc}\n",
       "\t& Animal & Colour & Cover & Liked\\\\\n",
       "\t\\hline\n",
       "\t& String & String & String & Bool\\\\\n",
       "\t\\hline\n",
       "\t1 & bunny & white & fur & 1 \\\\\n",
       "\t2 & dragon & green & scales & 1 \\\\\n",
       "\t3 & cow & brown & fur & 0 \\\\\n",
       "\t4 & pigeon & grey & feathers & 0 \\\\\n",
       "\t5 & pegasus & white & feathers,fur & 1 \\\\\n",
       "\\end{tabular}\n"
      ],
      "text/plain": [
       "\u001b[1m5×4 DataFrame\u001b[0m\n",
       "\u001b[1m Row \u001b[0m│\u001b[1m Animal  \u001b[0m\u001b[1m Colour \u001b[0m\u001b[1m Cover        \u001b[0m\u001b[1m Liked \u001b[0m\n",
       "\u001b[1m     \u001b[0m│\u001b[90m String  \u001b[0m\u001b[90m String \u001b[0m\u001b[90m String       \u001b[0m\u001b[90m Bool  \u001b[0m\n",
       "─────┼──────────────────────────────────────\n",
       "   1 │ bunny    white   fur            true\n",
       "   2 │ dragon   green   scales         true\n",
       "   3 │ cow      brown   fur           false\n",
       "   4 │ pigeon   grey    feathers      false\n",
       "   5 │ pegasus  white   feathers,fur   true"
      ]
     },
     "execution_count": 16,
     "metadata": {},
     "output_type": "execute_result"
    }
   ],
   "source": [
    "# Now read while setting truestrings and falsestrings (booleans in resultant DataFrame)\n",
    "\n",
    "animals_table2 = CSV.read(\n",
    "  \"animals_like.csv\", DataFrame,\n",
    "  truestrings=[\"Y\"],\n",
    "  falsestrings=[\"N\"])\n",
    "\n",
    "# Much better; Liked column is now a bool"
   ]
  },
  {
   "cell_type": "code",
   "execution_count": 17,
   "id": "aab50028",
   "metadata": {},
   "outputs": [
    {
     "data": {
      "text/html": [
       "<div class=\"data-frame\"><p>5 rows × 4 columns</p><table class=\"data-frame\"><thead><tr><th></th><th>Animal</th><th>Colour</th><th>Price</th><th>Liked</th></tr><tr><th></th><th title=\"String\">String</th><th title=\"String\">String</th><th title=\"Float64\">Float64</th><th title=\"String\">String</th></tr></thead><tbody><tr><th>1</th><td>bunny</td><td>white</td><td>10.5</td><td>Y</td></tr><tr><th>2</th><td>dragon</td><td>green</td><td>9.0</td><td>Y</td></tr><tr><th>3</th><td>cow</td><td>brown</td><td>23.55</td><td>N</td></tr><tr><th>4</th><td>pigeon</td><td>grey</td><td>0.0</td><td>N</td></tr><tr><th>5</th><td>pegasus</td><td>white</td><td>999.0</td><td>Y</td></tr></tbody></table></div>"
      ],
      "text/latex": [
       "\\begin{tabular}{r|cccc}\n",
       "\t& Animal & Colour & Price & Liked\\\\\n",
       "\t\\hline\n",
       "\t& String & String & Float64 & String\\\\\n",
       "\t\\hline\n",
       "\t1 & bunny & white & 10.5 & Y \\\\\n",
       "\t2 & dragon & green & 9.0 & Y \\\\\n",
       "\t3 & cow & brown & 23.55 & N \\\\\n",
       "\t4 & pigeon & grey & 0.0 & N \\\\\n",
       "\t5 & pegasus & white & 999.0 & Y \\\\\n",
       "\\end{tabular}\n"
      ],
      "text/plain": [
       "\u001b[1m5×4 DataFrame\u001b[0m\n",
       "\u001b[1m Row \u001b[0m│\u001b[1m Animal  \u001b[0m\u001b[1m Colour \u001b[0m\u001b[1m Price   \u001b[0m\u001b[1m Liked  \u001b[0m\n",
       "\u001b[1m     \u001b[0m│\u001b[90m String  \u001b[0m\u001b[90m String \u001b[0m\u001b[90m Float64 \u001b[0m\u001b[90m String \u001b[0m\n",
       "─────┼──────────────────────────────────\n",
       "   1 │ bunny    white     10.5   Y\n",
       "   2 │ dragon   green      9.0   Y\n",
       "   3 │ cow      brown     23.55  N\n",
       "   4 │ pigeon   grey       0.0   N\n",
       "   5 │ pegasus  white    999.0   Y"
      ]
     },
     "execution_count": 17,
     "metadata": {},
     "output_type": "execute_result"
    }
   ],
   "source": [
    "# Reading floats and Ints\n",
    "\n",
    "# Create another demo file...\n",
    "my_animals_price = \"\"\"Animal,Colour,Price,Liked\n",
    "bunny,white,10.5,Y\n",
    "dragon,green,9,Y\n",
    "cow,brown,23.55,N\n",
    "pigeon,grey,0,N\n",
    "pegasus,white,999,Y\"\"\"\n",
    "write_string(\"animals_price.csv\", my_animals_price);\n",
    "\n",
    "\n",
    "using CSV; using DataFrames;\n",
    "animals_table = CSV.read(\"animals_price.csv\", DataFrame)\n",
    "\n",
    "# Notice it is clever enough to figure out that these values are floats \n",
    "# (or Ints if they are all integers)\n",
    "\n",
    "# Can specifiy decimal delimiter if you are pulling European formats for instance\n",
    "#something = CSV.read(\"something.csv\", DataFrame, delim=';', decimal=',')"
   ]
  },
  {
   "cell_type": "markdown",
   "id": "eca05ce9",
   "metadata": {},
   "source": [
    "### CSVFiles Package ###\n",
    "\n",
    "CSV equivalent of FileIO. Provides load() and save() support for CSV files under FileIO."
   ]
  },
  {
   "cell_type": "code",
   "execution_count": 25,
   "id": "5cd0e4f2",
   "metadata": {},
   "outputs": [
    {
     "data": {
      "text/html": [
       "<div class=\"data-frame\"><p>2 rows × 3 columns</p><table class=\"data-frame\"><thead><tr><th></th><th>a</th><th>b</th><th>c</th></tr><tr><th></th><th title=\"String\">String</th><th title=\"Int64\">Int64</th><th title=\"Int64\">Int64</th></tr></thead><tbody><tr><th>1</th><td>Aval</td><td>1</td><td>3</td></tr><tr><th>2</th><td>Bval</td><td>2</td><td>4</td></tr></tbody></table></div>"
      ],
      "text/latex": [
       "\\begin{tabular}{r|ccc}\n",
       "\t& a & b & c\\\\\n",
       "\t\\hline\n",
       "\t& String & Int64 & Int64\\\\\n",
       "\t\\hline\n",
       "\t1 & Aval & 1 & 3 \\\\\n",
       "\t2 & Bval & 2 & 4 \\\\\n",
       "\\end{tabular}\n"
      ],
      "text/plain": [
       "\u001b[1m2×3 DataFrame\u001b[0m\n",
       "\u001b[1m Row \u001b[0m│\u001b[1m a      \u001b[0m\u001b[1m b     \u001b[0m\u001b[1m c     \u001b[0m\n",
       "\u001b[1m     \u001b[0m│\u001b[90m String \u001b[0m\u001b[90m Int64 \u001b[0m\u001b[90m Int64 \u001b[0m\n",
       "─────┼──────────────────────\n",
       "   1 │ Aval        1      3\n",
       "   2 │ Bval        2      4"
      ]
     },
     "execution_count": 25,
     "metadata": {},
     "output_type": "execute_result"
    }
   ],
   "source": [
    "#using Pkg; Pkg.add(\"CSVFiles\")\n",
    "using CSVFiles, DataFrames\n",
    "\n",
    "save(\"data.csv\", df)\n",
    "df2 = DataFrame(load(\"data.csv\"))\n",
    "\n",
    "# Can also do it similarly using pipes\n",
    "df = load(\"data.csv\") |> DataFrame\n",
    "df2 |> save(\"data.csv\")"
   ]
  },
  {
   "cell_type": "code",
   "execution_count": 27,
   "id": "91d3006e",
   "metadata": {
    "scrolled": false
   },
   "outputs": [
    {
     "data": {
      "text/html": [
       "<div class=\"data-frame\"><p>2 rows × 3 columns</p><table class=\"data-frame\"><thead><tr><th></th><th>a</th><th>b</th><th>c</th></tr><tr><th></th><th title=\"String\">String</th><th title=\"Int64\">Int64</th><th title=\"Int64\">Int64</th></tr></thead><tbody><tr><th>1</th><td>Aval</td><td>1</td><td>3</td></tr><tr><th>2</th><td>Bval</td><td>2</td><td>4</td></tr></tbody></table></div>"
      ],
      "text/latex": [
       "\\begin{tabular}{r|ccc}\n",
       "\t& a & b & c\\\\\n",
       "\t\\hline\n",
       "\t& String & Int64 & Int64\\\\\n",
       "\t\\hline\n",
       "\t1 & Aval & 1 & 3 \\\\\n",
       "\t2 & Bval & 2 & 4 \\\\\n",
       "\\end{tabular}\n"
      ],
      "text/plain": [
       "\u001b[1m2×3 DataFrame\u001b[0m\n",
       "\u001b[1m Row \u001b[0m│\u001b[1m a      \u001b[0m\u001b[1m b     \u001b[0m\u001b[1m c     \u001b[0m\n",
       "\u001b[1m     \u001b[0m│\u001b[90m String \u001b[0m\u001b[90m Int64 \u001b[0m\u001b[90m Int64 \u001b[0m\n",
       "─────┼──────────────────────\n",
       "   1 │ Aval        1      3\n",
       "   2 │ Bval        2      4"
      ]
     },
     "execution_count": 27,
     "metadata": {},
     "output_type": "execute_result"
    }
   ],
   "source": [
    "# Can also work directly on gzipped files to save space.\n",
    "\n",
    "# save as a gzipped csv (note the format\"CSV\" specifies that it is CSV file regardless of extension)\n",
    "save(File(format\"CSV\", \"data.csv.gz\"), df)\n",
    "\n",
    "# Load gzipped csv directly into dataframe\n",
    "df2 = DataFrame(load(File(format\"CSV\", \"data.csv.gz\")))"
   ]
  },
  {
   "cell_type": "code",
   "execution_count": 28,
   "id": "1c95dcf1",
   "metadata": {},
   "outputs": [
    {
     "data": {
      "text/html": [
       "<div class=\"data-frame\"><p>5 rows × 6 columns (omitted printing of 2 columns)</p><table class=\"data-frame\"><thead><tr><th></th><th>John</th><th>Doe</th><th>120 jefferson st.</th><th>Riverside</th></tr><tr><th></th><th title=\"String\">String</th><th title=\"String\">String</th><th title=\"String\">String</th><th title=\"String\">String</th></tr></thead><tbody><tr><th>1</th><td>Jack</td><td>McGinnis</td><td>220 hobo Av.</td><td>Phila</td></tr><tr><th>2</th><td>John &quot;Da Man&quot;</td><td>Repici</td><td>120 Jefferson St.</td><td>Riverside</td></tr><tr><th>3</th><td>Stephen</td><td>Tyler</td><td>7452 Terrace &quot;At the Plaza&quot; road</td><td>SomeTown</td></tr><tr><th>4</th><td></td><td>Blankman</td><td></td><td>SomeTown</td></tr><tr><th>5</th><td>Joan &quot;the bone&quot;, Anne</td><td>Jet</td><td>9th, at Terrace plc</td><td>Desert City</td></tr></tbody></table></div>"
      ],
      "text/latex": [
       "\\begin{tabular}{r|ccccc}\n",
       "\t& John & Doe & 120 jefferson st. & Riverside & \\\\\n",
       "\t\\hline\n",
       "\t& String & String & String & String & \\\\\n",
       "\t\\hline\n",
       "\t1 & Jack & McGinnis & 220 hobo Av. & Phila & $\\dots$ \\\\\n",
       "\t2 & John \"Da Man\" & Repici & 120 Jefferson St. & Riverside & $\\dots$ \\\\\n",
       "\t3 & Stephen & Tyler & 7452 Terrace \"At the Plaza\" road & SomeTown & $\\dots$ \\\\\n",
       "\t4 &  & Blankman &  & SomeTown & $\\dots$ \\\\\n",
       "\t5 & Joan \"the bone\", Anne & Jet & 9th, at Terrace plc & Desert City & $\\dots$ \\\\\n",
       "\\end{tabular}\n"
      ],
      "text/plain": [
       "\u001b[1m5×6 DataFrame\u001b[0m\n",
       "\u001b[1m Row \u001b[0m│\u001b[1m John                  \u001b[0m\u001b[1m Doe      \u001b[0m\u001b[1m 120 jefferson st.                \u001b[0m\u001b[1m Rive\u001b[0m ⋯\n",
       "\u001b[1m     \u001b[0m│\u001b[90m String                \u001b[0m\u001b[90m String   \u001b[0m\u001b[90m String                           \u001b[0m\u001b[90m Stri\u001b[0m ⋯\n",
       "─────┼──────────────────────────────────────────────────────────────────────────\n",
       "   1 │ Jack                   McGinnis  220 hobo Av.                      Phil ⋯\n",
       "   2 │ John \"Da Man\"          Repici    120 Jefferson St.                 Rive\n",
       "   3 │ Stephen                Tyler     7452 Terrace \"At the Plaza\" road  Some\n",
       "   4 │                        Blankman                                    Some\n",
       "   5 │ Joan \"the bone\", Anne  Jet       9th, at Terrace plc               Dese ⋯\n",
       "\u001b[36m                                                               3 columns omitted\u001b[0m"
      ]
     },
     "execution_count": 28,
     "metadata": {},
     "output_type": "execute_result"
    }
   ],
   "source": [
    "# Can load directly from a URL\n",
    "df3 = DataFrame(load(\"https://people.sc.fsu.edu/~jburkardt/data/csv/addresses.csv\"))"
   ]
  },
  {
   "cell_type": "markdown",
   "id": "f638ce94",
   "metadata": {},
   "source": [
    "# <span style=\"text-decoration: underline\">Working with Excel</span> #"
   ]
  },
  {
   "cell_type": "markdown",
   "id": "11957632",
   "metadata": {},
   "source": [
    "### Reading from Excel ###"
   ]
  },
  {
   "cell_type": "code",
   "execution_count": 47,
   "id": "billion-clearance",
   "metadata": {},
   "outputs": [
    {
     "data": {
      "text/plain": [
       "XLSXFile(\"ExcelFile.xlsx\") containing 4 Worksheets\n",
       "            sheetname size          range        \n",
       "-------------------------------------------------\n",
       "            TestSheet 5x6           A1:F5        \n",
       "            MainSheet 1x1           A1:A1        \n",
       "               Sheet2 5x2           A1:B5        \n",
       "               Sheet3 1x1           A1:A1        \n"
      ]
     },
     "execution_count": 47,
     "metadata": {},
     "output_type": "execute_result"
    }
   ],
   "source": [
    "#using Pkg; Pkg.add(\"XLSX\")\n",
    "import XLSX\n",
    "\n",
    "xf = XLSX.readxlsx(\"ExcelFile.xlsx\")"
   ]
  },
  {
   "cell_type": "code",
   "execution_count": 48,
   "id": "fb326b21",
   "metadata": {},
   "outputs": [
    {
     "name": "stdout",
     "output_type": "stream",
     "text": [
      "xf[\"Dog\"] = \"Dog\"\n",
      "xf[\"Sheet2!A2:B4\"] = Any[\"Rabbit\" 4; \"Dog\" 4; \"Fish\" 0]\n",
      "xf[\"Sheet2!A:B\"] = Any[\"Animal\" \"Legs\"; \"Rabbit\" 4; \"Dog\" 4; \"Fish\" 0; \"Human\" 2]\n"
     ]
    },
    {
     "data": {
      "text/plain": [
       "5×2 Matrix{Any}:\n",
       " \"Animal\"   \"Legs\"\n",
       " \"Rabbit\"  4\n",
       " \"Dog\"     4\n",
       " \"Fish\"    0\n",
       " \"Human\"   2"
      ]
     },
     "execution_count": 48,
     "metadata": {},
     "output_type": "execute_result"
    }
   ],
   "source": [
    "@show xf[\"Dog\"] # get cell or range by name\n",
    "\n",
    "@show xf[\"Sheet2!A2:B4\"] # get range explicitly\n",
    "\n",
    "@show xf[\"Sheet2!A:B\"] # Column ranges are also supported\n"
   ]
  },
  {
   "cell_type": "code",
   "execution_count": 49,
   "id": "d2b1cae5",
   "metadata": {},
   "outputs": [
    {
     "name": "stdout",
     "output_type": "stream",
     "text": [
      "XLSX.sheetnames(xf) = [\"TestSheet\", \"MainSheet\", \"Sheet2\", \"Sheet3\"]\n",
      "sh[2, 1] = \"Rabbit\"\n",
      "sh[\"A2\"] = \"Rabbit\"\n",
      "sh[\"A2:B4\"] = Any[\"Rabbit\" 4; \"Dog\" 4; \"Fish\" 0]\n",
      "sh[:] = Any[\"Animal\" \"Legs\"; \"Rabbit\" 4; \"Dog\" 4; \"Fish\" 0; \"Human\" 2]\n"
     ]
    },
    {
     "data": {
      "text/plain": [
       "5×2 Matrix{Any}:\n",
       " \"Animal\"   \"Legs\"\n",
       " \"Rabbit\"  4\n",
       " \"Dog\"     4\n",
       " \"Fish\"    0\n",
       " \"Human\"   2"
      ]
     },
     "execution_count": 49,
     "metadata": {},
     "output_type": "execute_result"
    }
   ],
   "source": [
    "@show XLSX.sheetnames(xf) # list all sheets\n",
    "\n",
    "sh = xf[\"Sheet2\"] # get a reference to a Worksheet\n",
    "\n",
    "@show sh[2, 1] # access element \"B2\" (2nd row, 2nd column)\n",
    "\n",
    "@show sh[\"A2\"] # you can also use the cell name\n",
    "\n",
    "@show sh[\"A2:B4\"] # or a cell range\n",
    "\n",
    "@show sh[:] # all data inside a worksheet's dimension\n"
   ]
  },
  {
   "cell_type": "code",
   "execution_count": 50,
   "id": "b9320604",
   "metadata": {},
   "outputs": [
    {
     "data": {
      "text/plain": [
       "3×2 Matrix{Any}:\n",
       " \"Rabbit\"  4\n",
       " \"Dog\"     4\n",
       " \"Fish\"    0"
      ]
     },
     "execution_count": 50,
     "metadata": {},
     "output_type": "execute_result"
    }
   ],
   "source": [
    "XLSX.readdata(\"ExcelFile.xlsx\", \"Sheet2\", \"A2:B4\") # shorthand for all above"
   ]
  },
  {
   "cell_type": "code",
   "execution_count": 51,
   "id": "e47e0567",
   "metadata": {},
   "outputs": [
    {
     "name": "stdout",
     "output_type": "stream",
     "text": [
      "labels = [:Animal, :Legs]\n",
      "columns = Any[Any[\"Rabbit\", \"Dog\", \"Fish\", \"Human\"], Any[4, 4, 0, 2]]\n"
     ]
    },
    {
     "data": {
      "text/plain": [
       "2-element Vector{Any}:\n",
       " Any[\"Rabbit\", \"Dog\", \"Fish\", \"Human\"]\n",
       " Any[4, 4, 0, 2]"
      ]
     },
     "execution_count": 51,
     "metadata": {},
     "output_type": "execute_result"
    }
   ],
   "source": [
    "# To see the structure of the excel file\n",
    "\n",
    "columns, labels = XLSX.readtable(\"ExcelFile.xlsx\", \"Sheet2\")\n",
    "\n",
    "@show labels\n",
    "@show columns"
   ]
  },
  {
   "cell_type": "code",
   "execution_count": 52,
   "id": "c885ecae",
   "metadata": {},
   "outputs": [
    {
     "data": {
      "text/html": [
       "<div class=\"data-frame\"><p>4 rows × 2 columns</p><table class=\"data-frame\"><thead><tr><th></th><th>Animal</th><th>Legs</th></tr><tr><th></th><th title=\"Any\">Any</th><th title=\"Any\">Any</th></tr></thead><tbody><tr><th>1</th><td>Rabbit</td><td>4</td></tr><tr><th>2</th><td>Dog</td><td>4</td></tr><tr><th>3</th><td>Fish</td><td>0</td></tr><tr><th>4</th><td>Human</td><td>2</td></tr></tbody></table></div>"
      ],
      "text/latex": [
       "\\begin{tabular}{r|cc}\n",
       "\t& Animal & Legs\\\\\n",
       "\t\\hline\n",
       "\t& Any & Any\\\\\n",
       "\t\\hline\n",
       "\t1 & Rabbit & 4 \\\\\n",
       "\t2 & Dog & 4 \\\\\n",
       "\t3 & Fish & 0 \\\\\n",
       "\t4 & Human & 2 \\\\\n",
       "\\end{tabular}\n"
      ],
      "text/plain": [
       "\u001b[1m4×2 DataFrame\u001b[0m\n",
       "\u001b[1m Row \u001b[0m│\u001b[1m Animal \u001b[0m\u001b[1m Legs \u001b[0m\n",
       "\u001b[1m     \u001b[0m│\u001b[90m Any    \u001b[0m\u001b[90m Any  \u001b[0m\n",
       "─────┼──────────────\n",
       "   1 │ Rabbit  4\n",
       "   2 │ Dog     4\n",
       "   3 │ Fish    0\n",
       "   4 │ Human   2"
      ]
     },
     "execution_count": 52,
     "metadata": {},
     "output_type": "execute_result"
    }
   ],
   "source": [
    "# Excel and DataFrames\n",
    "\n",
    "using DataFrames, XLSX\n",
    "\n",
    "df = DataFrame(XLSX.readtable(\"ExcelFile.xlsx\", \"Sheet2\")...)"
   ]
  },
  {
   "cell_type": "code",
   "execution_count": 53,
   "id": "e81c73b8",
   "metadata": {},
   "outputs": [
    {
     "name": "stdout",
     "output_type": "stream",
     "text": [
      "v1=Animal, v2=Legs, v3=Legs, v4=missing\n",
      "v1=Rabbit, v2=4, v3=4, v4=missing\n",
      "v1=Dog, v2=4, v3=4, v4=missing\n",
      "v1=Fish, v2=0, v3=0, v4=missing\n",
      "v1=Human, v2=2, v3=2, v4=missing\n"
     ]
    }
   ],
   "source": [
    "# Cache disabled => Always read from disk\n",
    "# enable_cache=false is good for spreadsheets that are too big for memory\n",
    "\n",
    "XLSX.openxlsx(\"ExcelFile.xlsx\", enable_cache=false) do f\n",
    "  sheet = f[\"Sheet2\"]\n",
    "  for r in XLSX.eachrow(sheet)\n",
    "  \n",
    "    # r is a `SheetRow`, values are read \n",
    "    # using column references\n",
    "    rn = XLSX.row_number(r) # `SheetRow` row number\n",
    "    v1 = r[1]   # will read value at column 1\n",
    "    v2 = r[2]   # will read value at column 2\n",
    "    v3 = r[\"B\"]\n",
    "    v4 = r[3]\n",
    "    println(\"v1=$v1, v2=$v2, v3=$v3, v4=$v4\")\n",
    "  end\n",
    "end"
   ]
  },
  {
   "cell_type": "markdown",
   "id": "7bf94718",
   "metadata": {},
   "source": [
    "### Writing to Excel ###"
   ]
  },
  {
   "cell_type": "code",
   "execution_count": 70,
   "id": "86d3730e",
   "metadata": {},
   "outputs": [],
   "source": [
    "XLSX.openxlsx(\"ExcelFile.xlsx\", mode=\"rw\") do xf  # mode=\"w\" for brand new blank file\n",
    "    \n",
    "    sheet = xf[\"Sheet3\"]\n",
    "    \n",
    "    XLSX.rename!(sheet, \"new_sheet\")\n",
    "    \n",
    "    sheet[\"A1\"] = \"this\"\n",
    "    sheet[\"A2\"] = \"is\"\n",
    "    sheet[\"A3\"] = \"new data\"\n",
    "    sheet[\"A4\"] = 100\n",
    "    \n",
    "    # will add a row from \"A5\" to \"E5\"\n",
    "    sheet[\"A5\"] = collect(1:5) # equivalent to `sheet[\"A5\", dim=2] = collect(1:5)`\n",
    "    \n",
    "    # will add a column from \"B1\" to \"B4\"\n",
    "    sheet[\"B1\", dim=1] = collect(1:4)\n",
    "\n",
    "    # will add a matrix from \"A7\" to \"C9\"\n",
    "    sheet[\"A7:C9\"] = [ 1 2 3 ; 4 5 6 ; 7 8 9 ]\n",
    "    \n",
    "    XLSX.rename!(sheet, \"Sheet3\")\n",
    "end"
   ]
  },
  {
   "cell_type": "code",
   "execution_count": 71,
   "id": "9709b479",
   "metadata": {},
   "outputs": [],
   "source": [
    "# Writing from dataframes\n",
    "\n",
    "using Dates\n",
    "import DataFrames, XLSX\n",
    "df = DataFrames.DataFrame(integers=[1, 2, 3, 4], strings=[\"Hey\", \"You\", \"Out\", \"There\"], floats=[10.2, 20.3, 30.4, 40.5], dates=[Date(2018,2,20), Date(2018,2,21), Date(2018,2,22), Date(2018,2,23)], times=[Dates.Time(19,10), Dates.Time(19,20), Dates.Time(19,30), Dates.Time(19,40)], datetimes=[Dates.DateTime(2018,5,20,19,10), Dates.DateTime(2018,5,20,19,20), Dates.DateTime(2018,5,20,19,30), Dates.DateTime(2018,5,20,19,40)])\n",
    "\n",
    "# To write to a new spreadsheet\n",
    "## Writetable(filename, vector of columns, vector of names, overwrite(optional), sheetname(optional))\n",
    "#XLSX.writetable(\"ExcelFile.xlsx\", \n",
    "#    collect(DataFrames.eachcol(df)), \n",
    "#    DataFrames.names(df), \n",
    "#    overwrite=true, \n",
    "#    sheetname=\"TestSheet\")\n",
    "\n",
    "# To modify existing spreadsheet\n",
    "XLSX.openxlsx(\"ExcelFile.xlsx\", mode=\"rw\") do xf\n",
    "    sheet = xf[\"NewSheet\"]\n",
    "    XLSX.writetable!(sheet,\n",
    "            DataFrames.eachcol(df), \n",
    "            DataFrames.names(df))\n",
    "end"
   ]
  },
  {
   "cell_type": "code",
   "execution_count": 74,
   "id": "18373dcc",
   "metadata": {},
   "outputs": [],
   "source": [
    "# Writing multiple structures into two sheets\n",
    "\n",
    "df1 = DataFrames.DataFrame(COL1=[10,20,30], COL2=[\"Fist\", \"Sec\", \"Third\"])\n",
    "df2 = DataFrames.DataFrame(AA=[\"aa\", \"bb\"], AB=[10.1, 10.2])\n",
    "XLSX.writetable(\"ExcelFile2.xlsx\", REPORT_A=( collect(DataFrames.eachcol(df1)), DataFrames.names(df1) ), REPORT_B=( collect(DataFrames.eachcol(df2)), DataFrames.names(df2) ))"
   ]
  },
  {
   "cell_type": "markdown",
   "id": "50255384",
   "metadata": {},
   "source": [
    "## Working with JSON ##"
   ]
  },
  {
   "cell_type": "markdown",
   "id": "8f6e54d0",
   "metadata": {},
   "source": [
    "<B>This is what JSON looks like:</b>\n",
    "\n",
    "    {\"menu\": {\n",
    "      \"id\": \"file\",\n",
    "      \"value\": \"File\",\n",
    "      \"popup\": {\n",
    "        \"menuitem\": [\n",
    "          {\"value\": \"New\", \"onclick\": \"CreateNewDoc()\"},\n",
    "          {\"value\": \"Open\", \"onclick\": \"OpenDoc()\"},\n",
    "          {\"value\": \"Close\", \"onclick\": \"CloseDoc()\"}\n",
    "        ]\n",
    "      }\n",
    "    }}"
   ]
  },
  {
   "cell_type": "code",
   "execution_count": 76,
   "id": "stainless-feature",
   "metadata": {},
   "outputs": [
    {
     "name": "stdout",
     "output_type": "stream",
     "text": [
      "hello, world\n",
      "1\n"
     ]
    },
    {
     "data": {
      "text/plain": [
       "\"{\\\"a\\\":1,\\\"b\\\":\\\"hello, world\\\"}\""
      ]
     },
     "execution_count": 76,
     "metadata": {},
     "output_type": "execute_result"
    }
   ],
   "source": [
    "#using Pkg; Pkg.add(\"JSON3\")\n",
    "using JSON3\n",
    "\n",
    "# Create a JSON string\n",
    "json_string = \"\"\"{\"a\": 1, \"b\": \"hello, world\"}\"\"\"\n",
    "\n",
    "json_object = JSON3.read(json_string)\n",
    "\n",
    "# can access the fields with dot or bracket notation\n",
    "println(json_object.b)\n",
    "println(json_object[\"a\"])"
   ]
  },
  {
   "cell_type": "code",
   "execution_count": 80,
   "id": "0b07cc60",
   "metadata": {},
   "outputs": [
    {
     "data": {
      "text/plain": [
       "\"{\\\"a\\\":1,\\\"b\\\":\\\"hello, world\\\"}\""
      ]
     },
     "execution_count": 80,
     "metadata": {},
     "output_type": "execute_result"
    }
   ],
   "source": [
    "# Write JSON out\n",
    "JSON3.write(json_object)"
   ]
  },
  {
   "cell_type": "code",
   "execution_count": 81,
   "id": "76200f40",
   "metadata": {},
   "outputs": [
    {
     "name": "stdout",
     "output_type": "stream",
     "text": [
      "{\n",
      "   \"a\": 1,\n",
      "   \"b\": \"hello, world\"\n",
      "}"
     ]
    }
   ],
   "source": [
    "# Pretty print\n",
    "JSON3.pretty(JSON3.write(json_object))"
   ]
  },
  {
   "cell_type": "code",
   "execution_count": 82,
   "id": "625ea7a4",
   "metadata": {},
   "outputs": [
    {
     "data": {
      "text/plain": [
       "JSON3.Object{Base.CodeUnits{UInt8, String}, Vector{UInt64}} with 2 entries:\n",
       "  :a => 1\n",
       "  :b => \"hello, world\""
      ]
     },
     "execution_count": 82,
     "metadata": {},
     "output_type": "execute_result"
    }
   ],
   "source": [
    "# Read and write from/to a file\n",
    "\n",
    "open(\"file.json\", \"w+\") do io\n",
    "    JSON3.pretty(io, json_object)  # pretty print rather than just write\n",
    "end\n",
    "\n",
    "json_string = read(\"file.json\", String)\n",
    "\n",
    "json_object = JSON3.read(json_string)"
   ]
  },
  {
   "cell_type": "markdown",
   "id": "outside-matter",
   "metadata": {},
   "source": [
    "## Working with HTML/XML ##\n",
    "\n",
    "There are a number of XML packages. The most recommended one seems to be EzXML. LightXML seems to be another popular package.\n",
    "\n",
    "<b>This is what XML looks like:</b>\n",
    "\n",
    "    <menu id=\"file\" value=\"File\">\n",
    "      <popup>\n",
    "        <menuitem value=\"New\" onclick=\"CreateNewDoc()\" />\n",
    "        <menuitem value=\"Open\" onclick=\"OpenDoc()\" />\n",
    "        <menuitem value=\"Close\" onclick=\"CloseDoc()\" />\n",
    "      </popup>\n",
    "    </menu>"
   ]
  },
  {
   "cell_type": "code",
   "execution_count": 85,
   "id": "a822d4d5",
   "metadata": {},
   "outputs": [
    {
     "name": "stdout",
     "output_type": "stream",
     "text": [
      "- Homo\n",
      "  └ sapiens (Human)\n",
      "- Pan\n",
      "  └ paniscus (Bonobo)\n",
      "  └ troglodytes (Chimpanzee)\n"
     ]
    }
   ],
   "source": [
    "#using Pkg; Pkg.add(\"EzXML\")\n",
    "using EzXML\n",
    "\n",
    "# Parse an XML string\n",
    "# (use `readxml(<filename>)` to read a document from a file).\n",
    "doc = parsexml(\"\"\"\n",
    "<primates>\n",
    "    <genus name=\"Homo\">\n",
    "        <species name=\"sapiens\">Human</species>\n",
    "    </genus>\n",
    "    <genus name=\"Pan\">\n",
    "        <species name=\"paniscus\">Bonobo</species>\n",
    "        <species name=\"troglodytes\">Chimpanzee</species>\n",
    "    </genus>\n",
    "</primates>\n",
    "\"\"\")\n",
    "\n",
    "# Get the root element from `doc`.\n",
    "primates = root(doc)  # or `doc.root`\n",
    "\n",
    "# Iterate over child elements.\n",
    "for genus in eachelement(primates)\n",
    "    # Get an attribute value by name.\n",
    "    genus_name = genus[\"name\"]\n",
    "    println(\"- \", genus_name)\n",
    "    for species in eachelement(genus)\n",
    "        # Get the content within an element.\n",
    "        species_name = nodecontent(species)  # or `species.content`\n",
    "        println(\"  └ \", species[\"name\"], \" (\", species_name, \")\")\n",
    "    end\n",
    "end"
   ]
  },
  {
   "cell_type": "code",
   "execution_count": 87,
   "id": "70d3e3a5",
   "metadata": {},
   "outputs": [
    {
     "name": "stdout",
     "output_type": "stream",
     "text": [
      "- Human\n",
      "- Bonobo\n",
      "- Chimpanzee\n"
     ]
    }
   ],
   "source": [
    "# Find texts using XPath query.\n",
    "for species_name in nodecontent.(findall(\"//primates/genus/species/text()\", primates))\n",
    "    println(\"- \", species_name)\n",
    "end"
   ]
  },
  {
   "cell_type": "markdown",
   "id": "fe7881bc",
   "metadata": {},
   "source": [
    "## Other Formats\n",
    "\n",
    "- YAML\n",
    "- TOML\n",
    "\n",
    "https://gohugohq.com/howto/toml-json-yaml-comparison/\n"
   ]
  },
  {
   "cell_type": "markdown",
   "id": "4cb92258",
   "metadata": {},
   "source": [
    "<b>JSON (JavaScript Object Notation):</b>\n",
    "\n",
    "```JSON\n",
    "{\n",
    "    \"date\" : \"2016-12-14T21:27:05.454Z\",\n",
    "    \"publishdate\" : \"2016-12-14T21:27:05.454Z\",\n",
    "    \"title\" : \"Deep dive into TOML, JSON and YAML\",\n",
    "    \"tags\" : [\"toml\",\"yaml\",\"json\", \"front matter\"],\n",
    "    \"type\" : \"article\",\n",
    "    \"amp\" : {\n",
    "        \"elements\" : []\n",
    "    },\n",
    "    \"article\" : {\n",
    "        \"lead\" : \"Lorem ipsum.\",\n",
    "        \"category\" : \"frontmatter\",\n",
    "        \"related\" : []\n",
    "    },\n",
    "    \"sitemap\" : {\n",
    "      \"changefreq\" : \"monthly\",\n",
    "      \"priority\" : 0.5,\n",
    "      \"filename\" : \"sitemap.xml\"\n",
    "    }\n",
    "}\n",
    "```"
   ]
  },
  {
   "cell_type": "markdown",
   "id": "ac4e19b0",
   "metadata": {},
   "source": [
    "<b>YAML (YAML Ain't Markup Language): </b>\n",
    "```YAML\n",
    "---\n",
    "date: '2016-12-14T21:27:05.454Z'\n",
    "publishdate: '2016-12-14T21:27:05.454Z'\n",
    "title: Deep dive into TOML, JSON and YAML\n",
    "tags:\n",
    "- toml\n",
    "- yaml\n",
    "- json\n",
    "- front matter\n",
    "type: article\n",
    "amp:\n",
    "  elements: []\n",
    "article:\n",
    "  lead: Lorem ipsum.\n",
    "  category: frontmatter\n",
    "  related: []\n",
    "sitemap:\n",
    "  changefreq: monthly\n",
    "  priority: 0.5\n",
    "  filename: sitemap.xml\n",
    "---\n",
    "```"
   ]
  },
  {
   "cell_type": "markdown",
   "id": "08c33d6b",
   "metadata": {},
   "source": [
    "<b>TOML (Tom's Obvious Markup Language):</b>\n",
    "```TOML\n",
    "+++\n",
    "date = \"2016-12-14T21:27:05.454Z\"\n",
    "publishdate = \"2016-12-14T21:27:05.454Z\"\n",
    "    \n",
    "title = \"Deep dive into TOML, JSON and YAML\"\n",
    "tags = [\"toml\",\"yaml\",\"json\", \"front matter\"]\n",
    "    \n",
    "type = \"article\"\n",
    "    \n",
    "[amp]\n",
    "    elements = []\n",
    "        \n",
    "[article]\n",
    "    lead = \"Lorem ipsum.\" \n",
    "    category = \"frontmatter\"\n",
    "    related = []\n",
    "    \n",
    "[sitemap]\n",
    "  changefreq = \"monthly\"\n",
    "  priority = 0.5\n",
    "  filename = \"sitemap.xml\"\n",
    "+++\n",
    "```"
   ]
  },
  {
   "cell_type": "markdown",
   "id": "3fe67919",
   "metadata": {},
   "source": [
    "## Databases\n",
    "\n",
    "- SQLite\n",
    "- MySQL (MariaSQL)\n",
    "- Postgres\n",
    "- ODBC, JDBC, Mongo,... (the list goes on)"
   ]
  },
  {
   "cell_type": "code",
   "execution_count": 99,
   "id": "16729b62",
   "metadata": {},
   "outputs": [
    {
     "data": {
      "text/html": [
       "<div class=\"data-frame\"><p>8 rows × 2 columns</p><table class=\"data-frame\"><thead><tr><th></th><th>FirstName</th><th>LastName</th></tr><tr><th></th><th title=\"String\">String</th><th title=\"String\">String</th></tr></thead><tbody><tr><th>1</th><td>Andrew</td><td>Adams</td></tr><tr><th>2</th><td>Nancy</td><td>Edwards</td></tr><tr><th>3</th><td>Jane</td><td>Peacock</td></tr><tr><th>4</th><td>Margaret</td><td>Park</td></tr><tr><th>5</th><td>Steve</td><td>Johnson</td></tr><tr><th>6</th><td>Michael</td><td>Mitchell</td></tr><tr><th>7</th><td>Robert</td><td>King</td></tr><tr><th>8</th><td>Laura</td><td>Callahan</td></tr></tbody></table></div>"
      ],
      "text/latex": [
       "\\begin{tabular}{r|cc}\n",
       "\t& FirstName & LastName\\\\\n",
       "\t\\hline\n",
       "\t& String & String\\\\\n",
       "\t\\hline\n",
       "\t1 & Andrew & Adams \\\\\n",
       "\t2 & Nancy & Edwards \\\\\n",
       "\t3 & Jane & Peacock \\\\\n",
       "\t4 & Margaret & Park \\\\\n",
       "\t5 & Steve & Johnson \\\\\n",
       "\t6 & Michael & Mitchell \\\\\n",
       "\t7 & Robert & King \\\\\n",
       "\t8 & Laura & Callahan \\\\\n",
       "\\end{tabular}\n"
      ],
      "text/plain": [
       "\u001b[1m8×2 DataFrame\u001b[0m\n",
       "\u001b[1m Row \u001b[0m│\u001b[1m FirstName \u001b[0m\u001b[1m LastName \u001b[0m\n",
       "\u001b[1m     \u001b[0m│\u001b[90m String    \u001b[0m\u001b[90m String   \u001b[0m\n",
       "─────┼─────────────────────\n",
       "   1 │ Andrew     Adams\n",
       "   2 │ Nancy      Edwards\n",
       "   3 │ Jane       Peacock\n",
       "   4 │ Margaret   Park\n",
       "   5 │ Steve      Johnson\n",
       "   6 │ Michael    Mitchell\n",
       "   7 │ Robert     King\n",
       "   8 │ Laura      Callahan"
      ]
     },
     "execution_count": 99,
     "metadata": {},
     "output_type": "execute_result"
    }
   ],
   "source": [
    "# SQLite (simple file based DB)\n",
    "#import Pkg; Pkg.add(\"SQLite\")\n",
    "\n",
    "using SQLite\n",
    "\n",
    "# Open demo database\n",
    "db = SQLite.DB(\"Chinook_Sqlite.sqlite\")\n",
    "\n",
    "SQLite.tables(db)\n",
    "\n",
    "# Reading into dataframe\n",
    "df = DBInterface.execute(db, \n",
    "    \"SELECT FirstName, LastName FROM Employee\") |> DataFrame"
   ]
  },
  {
   "cell_type": "code",
   "execution_count": 100,
   "id": "10be8abc",
   "metadata": {},
   "outputs": [
    {
     "data": {
      "text/plain": [
       "\"NewEmployee\""
      ]
     },
     "execution_count": 100,
     "metadata": {},
     "output_type": "execute_result"
    }
   ],
   "source": [
    "# Writing from dataframe\n",
    "df |> SQLite.load!(db, \"NewEmployee\")"
   ]
  },
  {
   "cell_type": "code",
   "execution_count": 101,
   "id": "ffaccb10",
   "metadata": {},
   "outputs": [
    {
     "data": {
      "text/html": [
       "<div class=\"data-frame\"><p>8 rows × 2 columns</p><table class=\"data-frame\"><thead><tr><th></th><th>FirstName</th><th>LastName</th></tr><tr><th></th><th title=\"String\">String</th><th title=\"String\">String</th></tr></thead><tbody><tr><th>1</th><td>Andrew</td><td>Adams</td></tr><tr><th>2</th><td>Nancy</td><td>Edwards</td></tr><tr><th>3</th><td>Jane</td><td>Peacock</td></tr><tr><th>4</th><td>Margaret</td><td>Park</td></tr><tr><th>5</th><td>Steve</td><td>Johnson</td></tr><tr><th>6</th><td>Michael</td><td>Mitchell</td></tr><tr><th>7</th><td>Robert</td><td>King</td></tr><tr><th>8</th><td>Laura</td><td>Callahan</td></tr></tbody></table></div>"
      ],
      "text/latex": [
       "\\begin{tabular}{r|cc}\n",
       "\t& FirstName & LastName\\\\\n",
       "\t\\hline\n",
       "\t& String & String\\\\\n",
       "\t\\hline\n",
       "\t1 & Andrew & Adams \\\\\n",
       "\t2 & Nancy & Edwards \\\\\n",
       "\t3 & Jane & Peacock \\\\\n",
       "\t4 & Margaret & Park \\\\\n",
       "\t5 & Steve & Johnson \\\\\n",
       "\t6 & Michael & Mitchell \\\\\n",
       "\t7 & Robert & King \\\\\n",
       "\t8 & Laura & Callahan \\\\\n",
       "\\end{tabular}\n"
      ],
      "text/plain": [
       "\u001b[1m8×2 DataFrame\u001b[0m\n",
       "\u001b[1m Row \u001b[0m│\u001b[1m FirstName \u001b[0m\u001b[1m LastName \u001b[0m\n",
       "\u001b[1m     \u001b[0m│\u001b[90m String    \u001b[0m\u001b[90m String   \u001b[0m\n",
       "─────┼─────────────────────\n",
       "   1 │ Andrew     Adams\n",
       "   2 │ Nancy      Edwards\n",
       "   3 │ Jane       Peacock\n",
       "   4 │ Margaret   Park\n",
       "   5 │ Steve      Johnson\n",
       "   6 │ Michael    Mitchell\n",
       "   7 │ Robert     King\n",
       "   8 │ Laura      Callahan"
      ]
     },
     "execution_count": 101,
     "metadata": {},
     "output_type": "execute_result"
    }
   ],
   "source": [
    "# Check that write happened\n",
    "DBInterface.execute(db, \n",
    "    \"SELECT FirstName, LastName FROM NewEmployee\") |> DataFrame"
   ]
  },
  {
   "cell_type": "markdown",
   "id": "13f0e6b5",
   "metadata": {},
   "source": [
    "## Cloud API's\n",
    "\n",
    "AWS, Azure, Google Cloud etc.\n",
    "\n",
    " **Example code:**\n",
    "```\n",
    "# Access an Amazon S3 bucket using AWS.jl (https://github.com/JuliaCloud/AWS.jl)\n",
    "import Pkg; Pkg.add(\"AWS\")\n",
    "\n",
    "using AWS.AWSServices: s3\n",
    "\n",
    "df = s3(\"GET\", \"https://my-bucket.s3.us-west-2.amazonaws.com/datafile\") |> DataFrame\n",
    "```"
   ]
  },
  {
   "cell_type": "markdown",
   "id": "008e37c5",
   "metadata": {},
   "source": [
    "## Working with Images\n",
    "\n"
   ]
  },
  {
   "cell_type": "code",
   "execution_count": 14,
   "id": "b1ecb2cd",
   "metadata": {},
   "outputs": [
    {
     "data": {
      "text/plain": [
       "Dict{String, Any} with 4 entries:\n",
       "  \"gui\"         => Dict{String, Any}(\"window\"=>GtkWindowLeaf(name=\"\", parent, w…\n",
       "  \"roi\"         => Dict{String, Any}(\"redraw\"=>64: \"map(f-mapped image, input-1…\n",
       "  \"annotations\" => 34: \"input-14\" = Dict{UInt64, Any}() Dict{UInt64, Any} \n",
       "  \"clim\"        => nothing"
      ]
     },
     "execution_count": 14,
     "metadata": {},
     "output_type": "execute_result"
    }
   ],
   "source": [
    "#import Pkg; Pkg.add(\"Images\"); Pkg.add(\"ImageView\")\n",
    "using Images, ImageView\n",
    "\n",
    "img_path = \"testimage.png\"\n",
    "\n",
    "img = load(img_path)\n",
    "\n",
    "imshow(img)"
   ]
  },
  {
   "cell_type": "markdown",
   "id": "d4b74f8b",
   "metadata": {},
   "source": [
    "# Finding Packages\n",
    "\n",
    "- JuliaHub ( https://juliahub.com )\n",
    "- JuliaObserver ( https://juliaobserver.com )\n",
    "- Julia.jl ( https://github.com/svaksha/Julia.jl )\n",
    "- Awesome Julia ( https://github.com/greister/Awesome-Julia )"
   ]
  },
  {
   "cell_type": "code",
   "execution_count": null,
   "id": "45264fed",
   "metadata": {},
   "outputs": [],
   "source": []
  }
 ],
 "metadata": {
  "kernelspec": {
   "display_name": "Julia 1.6.1",
   "language": "julia",
   "name": "julia-1.6"
  },
  "language_info": {
   "file_extension": ".jl",
   "mimetype": "application/julia",
   "name": "julia",
   "version": "1.6.1"
  }
 },
 "nbformat": 4,
 "nbformat_minor": 5
}
