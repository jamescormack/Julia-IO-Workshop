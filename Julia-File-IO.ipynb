{
 "cells": [
  {
   "cell_type": "markdown",
   "id": "02d470dd",
   "metadata": {},
   "source": [
    "# Julia File I/O #\n",
    "\n",
    "https://github.com/jamescormack/Julia-IO-Workshop\n",
    "\n",
    "**Contents:**\n",
    "\n",
    "- Terminal IO\n",
    "    - Reading\n",
    "    - Writing\n",
    "    - Formatted Output\n",
    "    - Reading from the Command Line\n",
    "- Standard File IO\n",
    "    - Shell Commands\n",
    "    - Reading from a File\n",
    "    - Writing to a File\n",
    "    - FileIO package\n",
    "    - Memory Mapped File IO\n",
    "    - Serialization\n",
    "- Working with CSV Files\n",
    "    - CSVFile package\n",
    "- Working with Excel Files\n",
    "    - Reading from Excel\n",
    "    - Writing to Excel\n",
    "- Working with JSON\n",
    "- Working with HTML/XML"
   ]
  },
  {
   "cell_type": "markdown",
   "id": "closed-sample",
   "metadata": {},
   "source": [
    "#  <span style=\"text-decoration: underline\">Terminal I/O</span> #\n",
    "\n",
    "### Reading: ###"
   ]
  },
  {
   "cell_type": "code",
   "execution_count": 106,
   "id": "ambient-painting",
   "metadata": {},
   "outputs": [
    {
     "name": "stdout",
     "output_type": "stream",
     "text": [
      "stdin> test\n"
     ]
    },
    {
     "data": {
      "text/plain": [
       "\"test\""
      ]
     },
     "execution_count": 106,
     "metadata": {},
     "output_type": "execute_result"
    }
   ],
   "source": [
    "aString = readline()"
   ]
  },
  {
   "cell_type": "code",
   "execution_count": 109,
   "id": "naval-hamburg",
   "metadata": {},
   "outputs": [
    {
     "name": "stdout",
     "output_type": "stream",
     "text": [
      "stdin> 15\n"
     ]
    },
    {
     "data": {
      "text/plain": [
       "Int64"
      ]
     },
     "execution_count": 109,
     "metadata": {},
     "output_type": "execute_result"
    }
   ],
   "source": [
    "anInteger = parse(Int64, readline())\n",
    "typeof(anInteger)"
   ]
  },
  {
   "cell_type": "markdown",
   "id": "dense-developer",
   "metadata": {},
   "source": [
    "### Writing: ###"
   ]
  },
  {
   "cell_type": "code",
   "execution_count": 110,
   "id": "recent-observer",
   "metadata": {},
   "outputs": [
    {
     "name": "stderr",
     "output_type": "stream",
     "text": [
      "There is an error! (not really)"
     ]
    },
    {
     "data": {
      "text/plain": [
       "31"
      ]
     },
     "execution_count": 110,
     "metadata": {},
     "output_type": "execute_result"
    }
   ],
   "source": [
    "# Writing and reading can be done directly to the stdout and stdin (and stderr)\n",
    "\n",
    "write(stderr, \"There is an error! (not really)\")"
   ]
  },
  {
   "cell_type": "markdown",
   "id": "8774b133",
   "metadata": {},
   "source": [
    "### Formatted Output ###"
   ]
  },
  {
   "cell_type": "code",
   "execution_count": 111,
   "id": "swedish-excuse",
   "metadata": {},
   "outputs": [
    {
     "name": "stdout",
     "output_type": "stream",
     "text": [
      "One line\n"
     ]
    }
   ],
   "source": [
    "# println has a newline\n",
    "\n",
    "println(\"One line\")"
   ]
  },
  {
   "cell_type": "code",
   "execution_count": 112,
   "id": "great-board",
   "metadata": {},
   "outputs": [
    {
     "name": "stdout",
     "output_type": "stream",
     "text": [
      "onetwo"
     ]
    }
   ],
   "source": [
    "# print does not have newline\n",
    "\n",
    "print(\"one\")\n",
    "print(\"two\")"
   ]
  },
  {
   "cell_type": "code",
   "execution_count": 113,
   "id": "6eb4a0de",
   "metadata": {},
   "outputs": [
    {
     "name": "stdout",
     "output_type": "stream",
     "text": [
      "x is 3 : is that good?"
     ]
    }
   ],
   "source": [
    "# Remember you can always use string interpolation and joining\n",
    "\n",
    "x = 3\n",
    "print(\"x is $(x)\" * \" : is that good?\")"
   ]
  },
  {
   "cell_type": "code",
   "execution_count": 114,
   "id": "occupied-development",
   "metadata": {},
   "outputs": [
    {
     "name": "stdout",
     "output_type": "stream",
     "text": [
      "\u001b[31mHello World red\u001b[39m\n",
      "\u001b[36mHello World cyan\u001b[39m\n",
      "\u001b[34mHello World blue\u001b[39m\n",
      "\u001b[35mHello World magenta\u001b[39m\n"
     ]
    }
   ],
   "source": [
    "# printing text in different colors.\n",
    "\n",
    "for color in [:red, :cyan, :blue, :magenta]\n",
    "    printstyled(\"Hello World $(color)\\n\"; color = color)\n",
    "end"
   ]
  },
  {
   "cell_type": "code",
   "execution_count": 115,
   "id": "honey-poverty",
   "metadata": {},
   "outputs": [
    {
     "name": "stdout",
     "output_type": "stream",
     "text": [
      "This is a 4.50"
     ]
    }
   ],
   "source": [
    "# Use Printf for formatted printing.\n",
    "\n",
    "using Printf\n",
    "\n",
    "#  Printing variables inline with string\n",
    "number = 4.5\n",
    "@printf(\"This is a %0.2f\",number)"
   ]
  },
  {
   "cell_type": "code",
   "execution_count": 116,
   "id": "8f13f913",
   "metadata": {},
   "outputs": [
    {
     "name": "stdout",
     "output_type": "stream",
     "text": [
      "Padded with zeros to length 6: 000123\n",
      "Hello world\n",
      "Scientific notation three digits: 1.235e+00"
     ]
    }
   ],
   "source": [
    "# Examples of different format strings...\n",
    "\n",
    "@printf \"Padded with zeros to length 6: %06i\\n\" 123\n",
    "@printf \"Hello %s\\n\" \"world\"\n",
    "@printf \"Scientific notation three digits: %.3e\" 1.23456"
   ]
  },
  {
   "cell_type": "code",
   "execution_count": 117,
   "id": "527f2759",
   "metadata": {},
   "outputs": [
    {
     "data": {
      "text/plain": [
       "\"π = 3.14159265358979311600\""
      ]
     },
     "execution_count": 117,
     "metadata": {},
     "output_type": "execute_result"
    }
   ],
   "source": [
    "# sprintf\n",
    "using Printf\n",
    "\n",
    "# using @macro with sprintf where output is a string\n",
    "formatted_string = @sprintf(\"π = %0.20f\", float(π))"
   ]
  },
  {
   "cell_type": "markdown",
   "id": "8f316756",
   "metadata": {},
   "source": [
    "### Non-String Output ###"
   ]
  },
  {
   "cell_type": "markdown",
   "id": "ece24eba",
   "metadata": {},
   "source": [
    "#### Output functions ####\n",
    "\n",
    "- **display()** is meant for interactive use and is Display aware. Output different depending on REPL or IJUlia or ?\n",
    "\n",
    "- **print()** is meant for non-interactive use, generating output programatically (Undecorated). Println derives from print.\n",
    "\n",
    "- **dump()** is meant for inspection and debugging. Most information but often cluttered.\n",
    "\n",
    "- **show()** is used by display() and print() under the hood (but not dump()). Override this function too customise how your shiny new type is displayed. MIME aware.\n",
    "\n",
    "- **printf** is C-style formatted printing."
   ]
  },
  {
   "cell_type": "code",
   "execution_count": 118,
   "id": "91a7e334",
   "metadata": {},
   "outputs": [
    {
     "name": "stdout",
     "output_type": "stream",
     "text": [
      "[1.0 2.0 3.0; 4.0 5.0 6.0]\n",
      "[1.0 2.0 3.0; 4.0 5.0 6.0]"
     ]
    }
   ],
   "source": [
    "# Pretty printing arrays\n",
    "#REPL prints mtxs quite well but print and println is dren for arrays\n",
    "\n",
    "D = [1. 2. 3.; 4. 5. 6.]\n",
    "\n",
    "println(D)\n",
    "print(D)"
   ]
  },
  {
   "cell_type": "code",
   "execution_count": 119,
   "id": "3f60968d",
   "metadata": {},
   "outputs": [
    {
     "name": "stdout",
     "output_type": "stream",
     "text": [
      "Array{Float64}((2, 3)) [1.0 2.0 3.0; 4.0 5.0 6.0]\n"
     ]
    }
   ],
   "source": [
    "dump(D)"
   ]
  },
  {
   "cell_type": "code",
   "execution_count": 120,
   "id": "bf74b842",
   "metadata": {},
   "outputs": [
    {
     "name": "stdout",
     "output_type": "stream",
     "text": [
      "[1.0 2.0 3.0; 4.0 5.0 6.0]"
     ]
    }
   ],
   "source": [
    "show(D)"
   ]
  },
  {
   "cell_type": "code",
   "execution_count": 121,
   "id": "25a89a9b",
   "metadata": {},
   "outputs": [
    {
     "data": {
      "text/plain": [
       "2×3 Array{Float64,2}:\n",
       " 1.0  2.0  3.0\n",
       " 4.0  5.0  6.0"
      ]
     },
     "metadata": {},
     "output_type": "display_data"
    },
    {
     "data": {
      "text/csv": [
       "1.0,2.0,3.0\n",
       "4.0,5.0,6.0\n"
      ],
      "text/plain": [
       "1.0,2.0,3.0\n",
       "4.0,5.0,6.0\n"
      ]
     },
     "metadata": {},
     "output_type": "display_data"
    }
   ],
   "source": [
    "display(D)\n",
    "display(\"text/csv\", D)"
   ]
  },
  {
   "cell_type": "markdown",
   "id": "rotary-sacrifice",
   "metadata": {},
   "source": [
    "### Reading from command line: ###\n",
    "    \n",
    "A simple implementation using ARGS (cmdline.jl)\n",
    "\n",
    "    for i in ARGS\n",
    "      println(i)\n",
    "    end\n",
    "\n",
    "    if sizeof(ARGS) > 2\n",
    "      print(\"Sum of two and three args:\")\n",
    "      println((parse(Int64,ARGS[2]) + parse(Int64,ARGS[3])))\n",
    "    end\n",
    "\n",
    "    println(\"Enter some number:\")\n",
    "    num = readline(stdin)\n",
    "    write(stdout, \"Your number is $(num)\\n\")\n",
    " "
   ]
  },
  {
   "cell_type": "markdown",
   "id": "5db9d940",
   "metadata": {},
   "source": [
    "For simple stuff ARGS is your friend but if you want to get fancy take a look at argparse.jl\n",
    "    \n",
    "    https://argparsejl.readthedocs.io/en/latest/argparse.html (Unixy-style argument passing)\n",
    "    \n",
    "Example of argparse being used is shown below (cmdline2.jl)"
   ]
  },
  {
   "cell_type": "code",
   "execution_count": null,
   "id": "acfd83f4",
   "metadata": {},
   "outputs": [],
   "source": [
    "#You will need this package installed\n",
    "#using Pkg;Pkg.add(\"ArgParse\")"
   ]
  },
  {
   "cell_type": "markdown",
   "id": "ff34f14c",
   "metadata": {},
   "source": [
    "    using ArgParse\n",
    "\n",
    "        function parse_commandline()\n",
    "            s = ArgParseSettings()\n",
    "\n",
    "            @add_arg_table s begin\n",
    "                \"--opt1\"\n",
    "                    help = \"an option with an argument\"\n",
    "                \"--opt2\", \"-o\"\n",
    "                    help = \"another option with an argument\"\n",
    "                    arg_type = Int\n",
    "                    default = 0\n",
    "                \"--flag1\"\n",
    "                    help = \"an option without argument, i.e. a flag\"\n",
    "                    action = :store_true\n",
    "                \"arg1\"\n",
    "                    help = \"a positional argument\"\n",
    "                    required = true\n",
    "            end\n",
    "\n",
    "        return parse_args(s)\n",
    "    end\n",
    "\n",
    "    function main()\n",
    "        parsed_args = parse_commandline()\n",
    "        println(\"Parsed args:\")\n",
    "        for (arg,val) in parsed_args\n",
    "            println(\"  $arg  =>  $val\")\n",
    "        end\n",
    "    end\n",
    "\n",
    "    main()\n"
   ]
  },
  {
   "cell_type": "markdown",
   "id": "cb4b3554",
   "metadata": {},
   "source": [
    "# <span style=\"text-decoration: underline\"> Standard File IO</span> #"
   ]
  },
  {
   "cell_type": "markdown",
   "id": "03baa016",
   "metadata": {},
   "source": [
    "### Shell commands ###"
   ]
  },
  {
   "cell_type": "code",
   "execution_count": 122,
   "id": "8586d05c",
   "metadata": {},
   "outputs": [
    {
     "name": "stdout",
     "output_type": "stream",
     "text": [
      "readdir(path) = [\".git\", \".ipynb_checkpoints\", \"ExcelFile.xlsx\", \"ExcelFile2.xlsx\", \"ExcelFile3.xlsx\", \"Julia-File-IO.ipynb\", \"animals.csv\", \"animals_like.csv\", \"animals_price.csv\", \"array.bin\", \"array.jld2\", \"cmdline.jl\", \"cmdline2.jl\", \"file.json\", \"file.txt\", \"test.bson\", \"test.csv\", \"testimage.png\"]\n",
      "path = \"/Users/a1040369/Box/JuliaUG/IO-Workshop/Julia-IO-Workshop\"\n"
     ]
    },
    {
     "data": {
      "text/plain": [
       "\"/Users/a1040369/Box/JuliaUG/IO-Workshop/Julia-IO-Workshop\""
      ]
     },
     "execution_count": 122,
     "metadata": {},
     "output_type": "execute_result"
    }
   ],
   "source": [
    "# Familiar shell commands work as you would expect...\n",
    "\n",
    "path = pwd()\n",
    "cd(\"..\")\n",
    "pwd()\n",
    "@show readdir(path)\n",
    "cd(path)\n",
    "# mkdir(\"dirname\")\n",
    "# cp()\n",
    "# rm() etc...\n",
    "@show path"
   ]
  },
  {
   "cell_type": "markdown",
   "id": "adapted-keeping",
   "metadata": {},
   "source": [
    "### Reading from a file ###"
   ]
  },
  {
   "cell_type": "code",
   "execution_count": null,
   "id": "beec2a06",
   "metadata": {},
   "outputs": [],
   "source": [
    "# Most basic example.\n",
    "\n",
    "io = open(\"file.txt\", \"r\");\n",
    "\n",
    "@show typeof(io)  # IOStream (serial)\n",
    "\n",
    "line = readline(io)\n",
    "\n",
    "close(io);\n",
    "\n",
    "print(line)\n",
    "\n",
    "# But dont do it this way. See below."
   ]
  },
  {
   "cell_type": "markdown",
   "id": "31e6e349",
   "metadata": {},
   "source": [
    "**Opening modes:**\n",
    "\n",
    "<p style='text-align: left;'>\n",
    "\n",
    "|Mode\t|Description| |Mode\t|Description|\n",
    ":--- | --- | --- | --- | --- \n",
    "|r\t| read\t| |r+\t| read, write\t|\n",
    "|w\t| write, create, truncate\t| |w+\t| read, write, create, truncate\t| \n",
    "|a\t| write, create, append\t| |a+\t| read, write, create, append\t|\n",
    "\n",
    "</p>"
   ]
  },
  {
   "cell_type": "code",
   "execution_count": 123,
   "id": "grateful-texas",
   "metadata": {},
   "outputs": [
    {
     "name": "stdout",
     "output_type": "stream",
     "text": [
      "First line\n",
      "A line\n",
      "B line\n"
     ]
    }
   ],
   "source": [
    "# Read whole file\n",
    "\n",
    "open(\"file.txt\", \"r\") do file\n",
    "    testfile_string = read(file, String) # Can only be done once\n",
    "    print(testfile_string)\n",
    "end"
   ]
  },
  {
   "cell_type": "code",
   "execution_count": null,
   "id": "multiple-stretch",
   "metadata": {},
   "outputs": [],
   "source": [
    "# Read line by line\n",
    "\n",
    "open(\"file.txt\", \"r\") do file\n",
    "    for line in eachline(file)\n",
    "        println(line)\n",
    "    end\n",
    "end"
   ]
  },
  {
   "cell_type": "markdown",
   "id": "fourth-thompson",
   "metadata": {},
   "source": [
    "### Writing to a file ###"
   ]
  },
  {
   "cell_type": "code",
   "execution_count": null,
   "id": "0d3d6370",
   "metadata": {},
   "outputs": [],
   "source": [
    "# Open for overwriting file\n",
    "\n",
    "#io = open(\"myfile.txt\", \"w\"); #overwrite\n",
    "io = open(\"file.txt\", \"a\"); # append\n",
    "\n",
    "write(io, \"Hello world!\");\n",
    "close(io);\n",
    "\n",
    "# But again, dont do it this way."
   ]
  },
  {
   "cell_type": "code",
   "execution_count": 125,
   "id": "loose-faith",
   "metadata": {},
   "outputs": [],
   "source": [
    "open(\"file.txt\", \"w\") do file # \"w\" for writing\n",
    "    write(file, \"First line\\n\") # \\n for newline\n",
    "    println(file, \"A line\") # Newline automatically added by println\n",
    "    println(file, \"B line\") \n",
    "end"
   ]
  },
  {
   "cell_type": "code",
   "execution_count": null,
   "id": "e91633b7",
   "metadata": {},
   "outputs": [],
   "source": [
    "# Shortcut\n",
    "data = open(f->read(f, String), \"file.txt\")\n",
    "print(data)"
   ]
  },
  {
   "cell_type": "markdown",
   "id": "seasonal-appliance",
   "metadata": {},
   "source": [
    "### FileIO Package ###\n",
    "\n",
    "High level support for formatted files. Uses load() and save() functions. Contrast to low level read() and write() in Julia Stdio.\n",
    "\n",
    "Lots of formats supported including GZIP, HTML, WAV, MP4, JPEG, CSV, Excel."
   ]
  },
  {
   "cell_type": "code",
   "execution_count": 126,
   "id": "beneficial-property",
   "metadata": {},
   "outputs": [
    {
     "name": "stdout",
     "output_type": "stream",
     "text": [
      "typeof(img) = Array{ColorTypes.RGBA{FixedPointNumbers.Normed{UInt8,8}},2}\n"
     ]
    },
    {
     "data": {
      "text/plain": [
       "0"
      ]
     },
     "execution_count": 126,
     "metadata": {},
     "output_type": "execute_result"
    }
   ],
   "source": [
    "#using Pkg;Pkg.add(\"FileIO\");Pkg.add(\"ImageIO\");Pkg.add(\"HTTP\")\n",
    "using FileIO, HTTP\n",
    "\n",
    "img = load(HTTP.URI(\"https://github.com/JuliaLang/julia-logo-graphics/raw/master/images/julia-logo-color.png\"));\n",
    "\n",
    "@show typeof(img)\n",
    "\n",
    "save(\"testimage.png\", img)"
   ]
  },
  {
   "cell_type": "markdown",
   "id": "83fdce2b",
   "metadata": {},
   "source": [
    "### Memory Mapped File IO ###\n",
    "\n",
    "Good for IPC and when size of file is too large to be loaded into memory in total.\n"
   ]
  },
  {
   "cell_type": "code",
   "execution_count": null,
   "id": "a7ecd908",
   "metadata": {},
   "outputs": [],
   "source": [
    "using Mmap\n",
    "\n",
    "io = open(\"mmap.bin\", \"w+\");\n",
    "\n",
    "B = Mmap.mmap(io, BitArray, (25,30000));\n",
    "\n",
    "B[3, 4000] = true;\n",
    "\n",
    "Mmap.sync!(B);\n",
    "\n",
    "close(io);\n",
    "\n",
    "io = open(\"mmap.bin\", \"r+\");\n",
    "\n",
    "C = Mmap.mmap(io, BitArray, (25,30000));\n",
    "@show C[3, 4000]\n",
    "@show C[2, 4000]\n",
    "\n",
    "close(io)\n",
    "\n",
    "rm(\"mmap.bin\")"
   ]
  },
  {
   "cell_type": "markdown",
   "id": "8dacd887",
   "metadata": {},
   "source": [
    "## Serialization ##\n",
    "\n",
    "The process of conversion of an object into byte streams (IO buffers) for the purpose of storing it into memory, file, or database is termed as Serialization. It is performed to save the object state for later use. The reverse process is termed as De-serialization.\n",
    "\n",
    "For standard serialisation the process will not work if the reading and writing are done by different versions of Julia, or an instance of Julia with a different system image. So considder JLD2 and BSON libs as alternatives if you are sharing or storing long-term.\n",
    "\n",
    "JLD2 uses HDF5 stardard format so it does not suffer word size and endianness transportability problems."
   ]
  },
  {
   "cell_type": "code",
   "execution_count": 127,
   "id": "b571dfb0",
   "metadata": {},
   "outputs": [
    {
     "name": "stdout",
     "output_type": "stream",
     "text": [
      "data[\"p1\"] = Person(\"Frank\", 67)\n",
      "data[\"arr\"] = [1.3, 2.6643, 0.3333333333333333, 3.141592653589793, 5.0]\n"
     ]
    },
    {
     "data": {
      "text/plain": [
       "5-element Array{Float64,1}:\n",
       " 1.3\n",
       " 2.6643\n",
       " 0.3333333333333333\n",
       " 3.141592653589793\n",
       " 5.0"
      ]
     },
     "execution_count": 127,
     "metadata": {},
     "output_type": "execute_result"
    }
   ],
   "source": [
    "using Serialization\n",
    "\n",
    "# Declare an array\n",
    "arr = [1.3, 2.6643, 1/3, π, 5];\n",
    "\n",
    "struct Person\n",
    "  myname::String\n",
    "  age::Int64\n",
    "end\n",
    "\n",
    "p1 = Person(\"Frank\", 67)\n",
    "p2 = Person(\"Daryl\", 56)\n",
    "\n",
    "serialize(\"array.bin\", Dict(\"arr\"=> arr, \"p1\"=> p1, \"p1\"=> p1))\n",
    "\n",
    "data = deserialize(\"array.bin\")\n",
    "\n",
    "@show data[\"p1\"]\n",
    "@show data[\"arr\"]"
   ]
  },
  {
   "cell_type": "code",
   "execution_count": null,
   "id": "02a42244",
   "metadata": {},
   "outputs": [],
   "source": [
    "#import Pkg; Pkg.add(\"JLD2\"); Pkg.add(\"FileIO\")\n",
    "\n",
    "# Serialization using JLD2 module\n",
    "# Using JLD2 module\n",
    "using JLD2\n",
    "  \n",
    "# Using FileIO module\n",
    "using FileIO\n",
    "  \n",
    "# Create a file\n",
    "file = File(format\"JLD2\", \"array.jld2\")\n",
    "  \n",
    "# Save data into the file\n",
    "#save(file, \"arr\", arr)\n",
    "save(file, Dict(\"arr\"=> arr, \"p1\"=> p1, \"p2\"=> p2))\n",
    "  \n",
    "# Load the file\n",
    "data = load(file)\n",
    "  \n",
    "# Display user-visible data\n",
    "dp1 = data[\"p1\"]"
   ]
  },
  {
   "cell_type": "code",
   "execution_count": null,
   "id": "4250ca40",
   "metadata": {},
   "outputs": [],
   "source": [
    "#import Pkg; Pkg.add(\"BSON\");\n",
    "\n",
    "# Serialization using BSON module\n",
    "# Using BSON module\n",
    "using BSON\n",
    "  \n",
    "bson(\"test.bson\", Dict(\"arr\"=> arr, \"p1\"=> p1, \"p2\"=> p2))\n",
    "  \n",
    "BSON.load(\"test.bson\")"
   ]
  },
  {
   "cell_type": "markdown",
   "id": "antique-colorado",
   "metadata": {},
   "source": [
    "# <span style=\"text-decoration: underline\">Working with CSV Files</span> #"
   ]
  },
  {
   "cell_type": "markdown",
   "id": "ea1f440d",
   "metadata": {},
   "source": [
    "<b>Example:</b>\n",
    "\n",
    "\n",
    "Animal,Colour,Cover\n",
    "<br>\n",
    "bunny,white,fur\n",
    "<br>\n",
    "dragon,green,scales\n",
    "<br>\n",
    "cow,brown,fur\n",
    "<br>\n",
    "pigeon,grey,feathers"
   ]
  },
  {
   "cell_type": "code",
   "execution_count": 4,
   "id": "permanent-dubai",
   "metadata": {},
   "outputs": [
    {
     "data": {
      "text/plain": [
       "90"
      ]
     },
     "execution_count": 4,
     "metadata": {},
     "output_type": "execute_result"
    }
   ],
   "source": [
    "# Create a CSV file\n",
    "\n",
    "#import Pkg; Pkg.add(\"DataFrames\"); Pkg.add(\"CSV\"); Pkg.add(\"StringEncodings\")\n",
    "using CSV, DataFrames, StringEncodings\n",
    "\n",
    "my_content =\"\"\"Animal,Colour,Cover\n",
    "bunny,white,fur\n",
    "dragon,green,scales\n",
    "cow,brown,fur\n",
    "pigeon,grey,feathers\"\"\"\n",
    "\n",
    "open(\"animals.csv\", \"w\") do out_file\n",
    "    # write will return the number of bytes written to the file\n",
    "    write(out_file, my_content)\n",
    "end"
   ]
  },
  {
   "cell_type": "code",
   "execution_count": 5,
   "id": "c7c55f3d",
   "metadata": {},
   "outputs": [
    {
     "name": "stdout",
     "output_type": "stream",
     "text": [
      "typeof(animals) = DataFrame\n"
     ]
    },
    {
     "data": {
      "text/html": [
       "<table class=\"data-frame\"><thead><tr><th></th><th>Animal</th><th>Colour</th><th>Cover</th></tr><tr><th></th><th>String</th><th>String</th><th>String</th></tr></thead><tbody><p>4 rows × 3 columns</p><tr><th>1</th><td>bunny</td><td>white</td><td>fur</td></tr><tr><th>2</th><td>dragon</td><td>green</td><td>scales</td></tr><tr><th>3</th><td>cow</td><td>brown</td><td>fur</td></tr><tr><th>4</th><td>pigeon</td><td>grey</td><td>feathers</td></tr></tbody></table>"
      ],
      "text/latex": [
       "\\begin{tabular}{r|ccc}\n",
       "\t& Animal & Colour & Cover\\\\\n",
       "\t\\hline\n",
       "\t& String & String & String\\\\\n",
       "\t\\hline\n",
       "\t1 & bunny & white & fur \\\\\n",
       "\t2 & dragon & green & scales \\\\\n",
       "\t3 & cow & brown & fur \\\\\n",
       "\t4 & pigeon & grey & feathers \\\\\n",
       "\\end{tabular}\n"
      ],
      "text/plain": [
       "\u001b[1m4×3 DataFrame\u001b[0m\n",
       "\u001b[1m Row \u001b[0m│\u001b[1m Animal \u001b[0m\u001b[1m Colour \u001b[0m\u001b[1m Cover    \u001b[0m\n",
       "\u001b[1m     \u001b[0m│\u001b[90m String \u001b[0m\u001b[90m String \u001b[0m\u001b[90m String   \u001b[0m\n",
       "─────┼──────────────────────────\n",
       "   1 │ bunny   white   fur\n",
       "   2 │ dragon  green   scales\n",
       "   3 │ cow     brown   fur\n",
       "   4 │ pigeon  grey    feathers"
      ]
     },
     "execution_count": 5,
     "metadata": {},
     "output_type": "execute_result"
    }
   ],
   "source": [
    "# Reading a CSV\n",
    "\n",
    "animals = CSV.read(\"animals.csv\", DataFrame)\n",
    "\n",
    "@show typeof(animals)\n",
    "animals"
   ]
  },
  {
   "cell_type": "code",
   "execution_count": 6,
   "id": "81932025",
   "metadata": {},
   "outputs": [
    {
     "data": {
      "text/plain": [
       "IOStream(<file test.csv>)"
      ]
     },
     "execution_count": 6,
     "metadata": {},
     "output_type": "execute_result"
    }
   ],
   "source": [
    "# Writing CSV from DataFrames\n",
    "\n",
    "var = DataFrame(a = [\"Aval\", \"Bval\"], b =[1, 2], c=[3, 4])\n",
    "\n",
    "open(\"test.csv\", \"w\") do io\n",
    "    CSV.write(io, var)\n",
    "end"
   ]
  },
  {
   "cell_type": "code",
   "execution_count": 7,
   "id": "increased-confidentiality",
   "metadata": {},
   "outputs": [
    {
     "name": "stdout",
     "output_type": "stream",
     "text": [
      "Values: Aval, 3\n",
      "Values: Bval, 4\n"
     ]
    }
   ],
   "source": [
    "# Reading from CSV using iterator\n",
    "\n",
    "reader = CSV.File(\"test.csv\")\n",
    "for row in reader\n",
    "    println(\"Values: $(row.a), $(row.c)\")\n",
    "end"
   ]
  },
  {
   "cell_type": "code",
   "execution_count": 8,
   "id": "30946ac0",
   "metadata": {},
   "outputs": [
    {
     "data": {
      "text/html": [
       "<table class=\"data-frame\"><thead><tr><th></th><th>a</th><th>b</th><th>c</th></tr><tr><th></th><th>String</th><th>Int64</th><th>Int64</th></tr></thead><tbody><p>2 rows × 3 columns</p><tr><th>1</th><td>Aval</td><td>1</td><td>3</td></tr><tr><th>2</th><td>Bval</td><td>2</td><td>4</td></tr></tbody></table>"
      ],
      "text/latex": [
       "\\begin{tabular}{r|ccc}\n",
       "\t& a & b & c\\\\\n",
       "\t\\hline\n",
       "\t& String & Int64 & Int64\\\\\n",
       "\t\\hline\n",
       "\t1 & Aval & 1 & 3 \\\\\n",
       "\t2 & Bval & 2 & 4 \\\\\n",
       "\\end{tabular}\n"
      ],
      "text/plain": [
       "\u001b[1m2×3 DataFrame\u001b[0m\n",
       "\u001b[1m Row \u001b[0m│\u001b[1m a      \u001b[0m\u001b[1m b     \u001b[0m\u001b[1m c     \u001b[0m\n",
       "\u001b[1m     \u001b[0m│\u001b[90m String \u001b[0m\u001b[90m Int64 \u001b[0m\u001b[90m Int64 \u001b[0m\n",
       "─────┼──────────────────────\n",
       "   1 │ Aval        1      3\n",
       "   2 │ Bval        2      4"
      ]
     },
     "execution_count": 8,
     "metadata": {},
     "output_type": "execute_result"
    }
   ],
   "source": [
    "# Multiple ways of reading CSV into DataFrames (inc. Angus' examples from previous weeks)\n",
    "\n",
    "df = DataFrame(CSV.File(\"test.csv\"))\n",
    "#OR\n",
    "df = CSV.read(\"test.csv\", DataFrame)\n",
    "#OR\n",
    "df = CSV.File(\"test.csv\", delim=\",\", quotechar='\"', header=1) |> DataFrame\n",
    "\n",
    "# Note: CSV read will also guess parameters for you if you don't specify the parameters"
   ]
  },
  {
   "cell_type": "code",
   "execution_count": 9,
   "id": "1d429e61",
   "metadata": {},
   "outputs": [
    {
     "data": {
      "text/html": [
       "<table class=\"data-frame\"><thead><tr><th></th><th>Column1</th><th>Column2</th><th>Column3</th></tr><tr><th></th><th>String</th><th>String</th><th>String</th></tr></thead><tbody><p>3 rows × 3 columns</p><tr><th>1</th><td>a</td><td>b</td><td>c</td></tr><tr><th>2</th><td>Aval</td><td>1</td><td>3</td></tr><tr><th>3</th><td>Bval</td><td>2</td><td>4</td></tr></tbody></table>"
      ],
      "text/latex": [
       "\\begin{tabular}{r|ccc}\n",
       "\t& Column1 & Column2 & Column3\\\\\n",
       "\t\\hline\n",
       "\t& String & String & String\\\\\n",
       "\t\\hline\n",
       "\t1 & a & b & c \\\\\n",
       "\t2 & Aval & 1 & 3 \\\\\n",
       "\t3 & Bval & 2 & 4 \\\\\n",
       "\\end{tabular}\n"
      ],
      "text/plain": [
       "\u001b[1m3×3 DataFrame\u001b[0m\n",
       "\u001b[1m Row \u001b[0m│\u001b[1m Column1 \u001b[0m\u001b[1m Column2 \u001b[0m\u001b[1m Column3 \u001b[0m\n",
       "\u001b[1m     \u001b[0m│\u001b[90m String  \u001b[0m\u001b[90m String  \u001b[0m\u001b[90m String  \u001b[0m\n",
       "─────┼───────────────────────────\n",
       "   1 │ a        b        c\n",
       "   2 │ Aval     1        3\n",
       "   3 │ Bval     2        4"
      ]
     },
     "execution_count": 9,
     "metadata": {},
     "output_type": "execute_result"
    }
   ],
   "source": [
    "# No Headers\n",
    "\n",
    "# default header names\n",
    "CSV.read(\"test.csv\", DataFrame, header=false)"
   ]
  },
  {
   "cell_type": "code",
   "execution_count": 10,
   "id": "ecdfdf41",
   "metadata": {},
   "outputs": [
    {
     "data": {
      "text/html": [
       "<table class=\"data-frame\"><thead><tr><th></th><th>Animal</th><th>Colour</th><th>Cover</th></tr><tr><th></th><th>String</th><th>String</th><th>String</th></tr></thead><tbody><p>3 rows × 3 columns</p><tr><th>1</th><td>a</td><td>b</td><td>c</td></tr><tr><th>2</th><td>Aval</td><td>1</td><td>3</td></tr><tr><th>3</th><td>Bval</td><td>2</td><td>4</td></tr></tbody></table>"
      ],
      "text/latex": [
       "\\begin{tabular}{r|ccc}\n",
       "\t& Animal & Colour & Cover\\\\\n",
       "\t\\hline\n",
       "\t& String & String & String\\\\\n",
       "\t\\hline\n",
       "\t1 & a & b & c \\\\\n",
       "\t2 & Aval & 1 & 3 \\\\\n",
       "\t3 & Bval & 2 & 4 \\\\\n",
       "\\end{tabular}\n"
      ],
      "text/plain": [
       "\u001b[1m3×3 DataFrame\u001b[0m\n",
       "\u001b[1m Row \u001b[0m│\u001b[1m Animal \u001b[0m\u001b[1m Colour \u001b[0m\u001b[1m Cover  \u001b[0m\n",
       "\u001b[1m     \u001b[0m│\u001b[90m String \u001b[0m\u001b[90m String \u001b[0m\u001b[90m String \u001b[0m\n",
       "─────┼────────────────────────\n",
       "   1 │ a       b       c\n",
       "   2 │ Aval    1       3\n",
       "   3 │ Bval    2       4"
      ]
     },
     "execution_count": 10,
     "metadata": {},
     "output_type": "execute_result"
    }
   ],
   "source": [
    "# manually specified header names\n",
    "\n",
    "CSV.read(\"test.csv\", DataFrame, header=[\"Animal\", \"Colour\", \"Cover\"])"
   ]
  },
  {
   "cell_type": "code",
   "execution_count": 11,
   "id": "0cd916f5",
   "metadata": {},
   "outputs": [
    {
     "data": {
      "text/plain": [
       "write_string (generic function with 1 method)"
      ]
     },
     "execution_count": 11,
     "metadata": {},
     "output_type": "execute_result"
    }
   ],
   "source": [
    "# Convenience function.\n",
    "\n",
    "function write_string(path, x)\n",
    "    open(path, \"w\") do out_file\n",
    "        write(out_file, x)\n",
    "    end\n",
    "end"
   ]
  },
  {
   "cell_type": "code",
   "execution_count": 12,
   "id": "8e81f2f9",
   "metadata": {},
   "outputs": [
    {
     "data": {
      "text/html": [
       "<table class=\"data-frame\"><thead><tr><th></th><th>Animal</th><th>Colour</th><th>Cover</th><th>Liked</th></tr><tr><th></th><th>String</th><th>String</th><th>String</th><th>String</th></tr></thead><tbody><p>5 rows × 4 columns</p><tr><th>1</th><td>bunny</td><td>white</td><td>fur</td><td>Y</td></tr><tr><th>2</th><td>dragon</td><td>green</td><td>scales</td><td>Y</td></tr><tr><th>3</th><td>cow</td><td>brown</td><td>fur</td><td>N</td></tr><tr><th>4</th><td>pigeon</td><td>grey</td><td>feathers</td><td>N</td></tr><tr><th>5</th><td>pegasus</td><td>white</td><td>feathers,fur</td><td>Y</td></tr></tbody></table>"
      ],
      "text/latex": [
       "\\begin{tabular}{r|cccc}\n",
       "\t& Animal & Colour & Cover & Liked\\\\\n",
       "\t\\hline\n",
       "\t& String & String & String & String\\\\\n",
       "\t\\hline\n",
       "\t1 & bunny & white & fur & Y \\\\\n",
       "\t2 & dragon & green & scales & Y \\\\\n",
       "\t3 & cow & brown & fur & N \\\\\n",
       "\t4 & pigeon & grey & feathers & N \\\\\n",
       "\t5 & pegasus & white & feathers,fur & Y \\\\\n",
       "\\end{tabular}\n"
      ],
      "text/plain": [
       "\u001b[1m5×4 DataFrame\u001b[0m\n",
       "\u001b[1m Row \u001b[0m│\u001b[1m Animal  \u001b[0m\u001b[1m Colour \u001b[0m\u001b[1m Cover        \u001b[0m\u001b[1m Liked  \u001b[0m\n",
       "\u001b[1m     \u001b[0m│\u001b[90m String  \u001b[0m\u001b[90m String \u001b[0m\u001b[90m String       \u001b[0m\u001b[90m String \u001b[0m\n",
       "─────┼───────────────────────────────────────\n",
       "   1 │ bunny    white   fur           Y\n",
       "   2 │ dragon   green   scales        Y\n",
       "   3 │ cow      brown   fur           N\n",
       "   4 │ pigeon   grey    feathers      N\n",
       "   5 │ pegasus  white   feathers,fur  Y"
      ]
     },
     "execution_count": 12,
     "metadata": {},
     "output_type": "execute_result"
    }
   ],
   "source": [
    "# Reading booleans (not booleans in DataFrame)\n",
    "\n",
    "using CSV; using DataFrames;\n",
    "\n",
    "my_animals = \"\"\"Animal,Colour,Cover,Liked\n",
    "bunny,white,fur,Y\n",
    "dragon,green,scales,Y\n",
    "cow,brown,fur,N\n",
    "pigeon,grey,feathers,N\n",
    "pegasus,white,\"feathers,fur\",Y\"\"\"\n",
    "write_string(\"animals_like.csv\", my_animals);\n",
    "\n",
    "\n",
    "animals_table = CSV.read(\"animals_like.csv\", DataFrame)"
   ]
  },
  {
   "cell_type": "code",
   "execution_count": 13,
   "id": "ecb630cf",
   "metadata": {},
   "outputs": [
    {
     "data": {
      "text/html": [
       "<table class=\"data-frame\"><thead><tr><th></th><th>Animal</th><th>Colour</th><th>Cover</th><th>Liked</th></tr><tr><th></th><th>String</th><th>String</th><th>String</th><th>Bool</th></tr></thead><tbody><p>5 rows × 4 columns</p><tr><th>1</th><td>bunny</td><td>white</td><td>fur</td><td>1</td></tr><tr><th>2</th><td>dragon</td><td>green</td><td>scales</td><td>1</td></tr><tr><th>3</th><td>cow</td><td>brown</td><td>fur</td><td>0</td></tr><tr><th>4</th><td>pigeon</td><td>grey</td><td>feathers</td><td>0</td></tr><tr><th>5</th><td>pegasus</td><td>white</td><td>feathers,fur</td><td>1</td></tr></tbody></table>"
      ],
      "text/latex": [
       "\\begin{tabular}{r|cccc}\n",
       "\t& Animal & Colour & Cover & Liked\\\\\n",
       "\t\\hline\n",
       "\t& String & String & String & Bool\\\\\n",
       "\t\\hline\n",
       "\t1 & bunny & white & fur & 1 \\\\\n",
       "\t2 & dragon & green & scales & 1 \\\\\n",
       "\t3 & cow & brown & fur & 0 \\\\\n",
       "\t4 & pigeon & grey & feathers & 0 \\\\\n",
       "\t5 & pegasus & white & feathers,fur & 1 \\\\\n",
       "\\end{tabular}\n"
      ],
      "text/plain": [
       "\u001b[1m5×4 DataFrame\u001b[0m\n",
       "\u001b[1m Row \u001b[0m│\u001b[1m Animal  \u001b[0m\u001b[1m Colour \u001b[0m\u001b[1m Cover        \u001b[0m\u001b[1m Liked \u001b[0m\n",
       "\u001b[1m     \u001b[0m│\u001b[90m String  \u001b[0m\u001b[90m String \u001b[0m\u001b[90m String       \u001b[0m\u001b[90m Bool  \u001b[0m\n",
       "─────┼──────────────────────────────────────\n",
       "   1 │ bunny    white   fur            true\n",
       "   2 │ dragon   green   scales         true\n",
       "   3 │ cow      brown   fur           false\n",
       "   4 │ pigeon   grey    feathers      false\n",
       "   5 │ pegasus  white   feathers,fur   true"
      ]
     },
     "execution_count": 13,
     "metadata": {},
     "output_type": "execute_result"
    }
   ],
   "source": [
    "# Now read in setting truestrings and falsestrings (booleans in DataFrame)\n",
    "\n",
    "animals_table2 = CSV.read(\n",
    "  \"animals_like.csv\", DataFrame,\n",
    "  truestrings=[\"Y\"],\n",
    "  falsestrings=[\"N\"])"
   ]
  },
  {
   "cell_type": "code",
   "execution_count": 14,
   "id": "aab50028",
   "metadata": {},
   "outputs": [
    {
     "data": {
      "text/html": [
       "<table class=\"data-frame\"><thead><tr><th></th><th>Animal</th><th>Colour</th><th>Price</th><th>Liked</th></tr><tr><th></th><th>String</th><th>String</th><th>Float64</th><th>String</th></tr></thead><tbody><p>5 rows × 4 columns</p><tr><th>1</th><td>bunny</td><td>white</td><td>10.5</td><td>Y</td></tr><tr><th>2</th><td>dragon</td><td>green</td><td>9.0</td><td>Y</td></tr><tr><th>3</th><td>cow</td><td>brown</td><td>23.55</td><td>N</td></tr><tr><th>4</th><td>pigeon</td><td>grey</td><td>0.5</td><td>N</td></tr><tr><th>5</th><td>pegasus</td><td>white</td><td>999.0</td><td>Y</td></tr></tbody></table>"
      ],
      "text/latex": [
       "\\begin{tabular}{r|cccc}\n",
       "\t& Animal & Colour & Price & Liked\\\\\n",
       "\t\\hline\n",
       "\t& String & String & Float64 & String\\\\\n",
       "\t\\hline\n",
       "\t1 & bunny & white & 10.5 & Y \\\\\n",
       "\t2 & dragon & green & 9.0 & Y \\\\\n",
       "\t3 & cow & brown & 23.55 & N \\\\\n",
       "\t4 & pigeon & grey & 0.5 & N \\\\\n",
       "\t5 & pegasus & white & 999.0 & Y \\\\\n",
       "\\end{tabular}\n"
      ],
      "text/plain": [
       "\u001b[1m5×4 DataFrame\u001b[0m\n",
       "\u001b[1m Row \u001b[0m│\u001b[1m Animal  \u001b[0m\u001b[1m Colour \u001b[0m\u001b[1m Price   \u001b[0m\u001b[1m Liked  \u001b[0m\n",
       "\u001b[1m     \u001b[0m│\u001b[90m String  \u001b[0m\u001b[90m String \u001b[0m\u001b[90m Float64 \u001b[0m\u001b[90m String \u001b[0m\n",
       "─────┼──────────────────────────────────\n",
       "   1 │ bunny    white     10.5   Y\n",
       "   2 │ dragon   green      9.0   Y\n",
       "   3 │ cow      brown     23.55  N\n",
       "   4 │ pigeon   grey       0.5   N\n",
       "   5 │ pegasus  white    999.0   Y"
      ]
     },
     "execution_count": 14,
     "metadata": {},
     "output_type": "execute_result"
    }
   ],
   "source": [
    "# Reading floats\n",
    "\n",
    "using CSV; using DataFrames;\n",
    "\n",
    "my_animals_price = \"\"\"Animal,Colour,Price,Liked\n",
    "bunny,white,10.50,Y\n",
    "dragon,green,9,Y\n",
    "cow,brown,23.55,N\n",
    "pigeon,grey,0.50,N\n",
    "pegasus,white,999,Y\"\"\"\n",
    "write_string(\"animals_price.csv\", my_animals_price);\n",
    "\n",
    "animals_table = CSV.read(\"animals_price.csv\", DataFrame)\n",
    "\n",
    "\n",
    "# Can specifiy decimal delimiter if you are pulling European formats for instance\n",
    "#something = CSV.read(\"something.csv\", DataFrame, delim=';', decimal=',')"
   ]
  },
  {
   "cell_type": "markdown",
   "id": "eca05ce9",
   "metadata": {},
   "source": [
    "### CSVFiles Package ###\n",
    "\n",
    "CSV equivalent of FileIO. Provides load() and save() support for CSV files under FileIO."
   ]
  },
  {
   "cell_type": "code",
   "execution_count": 46,
   "id": "91d3006e",
   "metadata": {
    "scrolled": false
   },
   "outputs": [
    {
     "data": {
      "application/vnd.dataresource+json": {
       "data": [
        {
         "dates": "2018-02-20",
         "datetimes": "2018-05-20T19:10:00",
         "floats": 10.2,
         "integers": 1,
         "strings": "Hey",
         "times": "19:10:00"
        },
        {
         "dates": "2018-02-21",
         "datetimes": "2018-05-20T19:20:00",
         "floats": 20.3,
         "integers": 2,
         "strings": "You",
         "times": "19:20:00"
        },
        {
         "dates": "2018-02-22",
         "datetimes": "2018-05-20T19:30:00",
         "floats": 30.4,
         "integers": 3,
         "strings": "Out",
         "times": "19:30:00"
        },
        {
         "dates": "2018-02-23",
         "datetimes": "2018-05-20T19:40:00",
         "floats": 40.5,
         "integers": 4,
         "strings": "There",
         "times": "19:40:00"
        }
       ],
       "schema": {
        "fields": [
         {
          "name": "integers",
          "type": "integer"
         },
         {
          "name": "strings",
          "type": "string"
         },
         {
          "name": "floats",
          "type": "number"
         },
         {
          "name": "dates",
          "type": "date"
         },
         {
          "name": "times",
          "type": "string"
         },
         {
          "name": "datetimes",
          "type": "datetime"
         }
        ]
       }
      },
      "text/html": [
       "<table><thead><tr><th>integers</th><th>strings</th><th>floats</th><th>dates</th><th>times</th><th>datetimes</th></tr></thead><tbody><tr><td>1</td><td>&quot;Hey&quot;</td><td>10.2</td><td>Date&#40;&quot;2018-02-20&quot;&#41;</td><td>&quot;19:10:00&quot;</td><td>DateTime&#40;&quot;2018-05-20T19:10:00&quot;&#41;</td></tr><tr><td>2</td><td>&quot;You&quot;</td><td>20.3</td><td>Date&#40;&quot;2018-02-21&quot;&#41;</td><td>&quot;19:20:00&quot;</td><td>DateTime&#40;&quot;2018-05-20T19:20:00&quot;&#41;</td></tr><tr><td>3</td><td>&quot;Out&quot;</td><td>30.4</td><td>Date&#40;&quot;2018-02-22&quot;&#41;</td><td>&quot;19:30:00&quot;</td><td>DateTime&#40;&quot;2018-05-20T19:30:00&quot;&#41;</td></tr><tr><td>4</td><td>&quot;There&quot;</td><td>40.5</td><td>Date&#40;&quot;2018-02-23&quot;&#41;</td><td>&quot;19:40:00&quot;</td><td>DateTime&#40;&quot;2018-05-20T19:40:00&quot;&#41;</td></tr></tbody></table>"
      ],
      "text/plain": [
       "4x6 DataTable\n",
       "integers │ strings │ floats │ dates              │ times   \n",
       "─────────┼─────────┼────────┼────────────────────┼─────────\n",
       "1        │ Hey     │ 10.2   │ Date(\"2018-02-20\") │ 19:10:00\n",
       "2        │ You     │ 20.3   │ Date(\"2018-02-21\") │ 19:20:00\n",
       "3        │ Out     │ 30.4   │ Date(\"2018-02-22\") │ 19:30:00\n",
       "4        │ There   │ 40.5   │ Date(\"2018-02-23\") │ 19:40:00\n",
       "... with 1 more column: datetimes"
      ]
     },
     "execution_count": 46,
     "metadata": {},
     "output_type": "execute_result"
    }
   ],
   "source": [
    "using Pkg; Pkg.add(\"CSVFiles\"); Pkg.add(\"DataTables\")\n",
    "using CSVFiles, DataFrames, DataTables, IndexedTables, TimeSeries, Temporal, Gadfly\n",
    "\n",
    "save(\"data.csv\", df)\n",
    "save(File(format\"CSV\", \"data.csv.gz\"), df)\n",
    "\n",
    "df2 = DataFrame(load(\"data.csv\"))\n",
    "\n",
    "# Load gzipped csv directly into dataframe\n",
    "df = DataFrame(load(File(format\"CSV\", \"data.csv.gz\")))\n",
    "\n",
    "# Load into a DataTable\n",
    "dt = DataTable(load(\"data.csv\"))"
   ]
  },
  {
   "cell_type": "markdown",
   "id": "f638ce94",
   "metadata": {},
   "source": [
    "# <span style=\"text-decoration: underline\">Working with Excel</span> #"
   ]
  },
  {
   "cell_type": "markdown",
   "id": "11957632",
   "metadata": {},
   "source": [
    "### Reading from Excel ###"
   ]
  },
  {
   "cell_type": "code",
   "execution_count": 27,
   "id": "billion-clearance",
   "metadata": {},
   "outputs": [
    {
     "data": {
      "text/plain": [
       "XLSXFile(\"ExcelFile.xlsx\") containing 3 Worksheets\n",
       "            sheetname size          range        \n",
       "-------------------------------------------------\n",
       "            MainSheet 4x3           A1:C4        \n",
       "               Sheet2 5x3           A1:C5        \n",
       "               Sheet3 9x5           A1:E9        \n"
      ]
     },
     "execution_count": 27,
     "metadata": {},
     "output_type": "execute_result"
    }
   ],
   "source": [
    "#using Pkg; Pkg.add(\"XLSX\")\n",
    "import XLSX\n",
    "\n",
    "xf = XLSX.readxlsx(\"ExcelFile.xlsx\")"
   ]
  },
  {
   "cell_type": "code",
   "execution_count": 28,
   "id": "d2b1cae5",
   "metadata": {},
   "outputs": [
    {
     "name": "stdout",
     "output_type": "stream",
     "text": [
      "XLSX.sheetnames(xf) = [\"MainSheet\", \"Sheet2\", \"Sheet3\"]\n",
      "sh[2, 1] = \"Rabbit\"\n",
      "sh[\"A2\"] = \"Rabbit\"\n",
      "sh[\"A2:B4\"] = Any[\"Rabbit\" 4; \"Dog\" 4; \"Fish\" 0]\n",
      "xf[\"DogCell\"] = \"Dog\"\n",
      "xf[\"Sheet2!A2:B4\"] = Any[\"Rabbit\" 4; \"Dog\" 4; \"Fish\" 0]\n",
      "xf[\"Sheet2!A:B\"] = Any[\"Animal\" \"Legs\"; \"Rabbit\" 4; \"Dog\" 4; \"Fish\" 0; \"Human\" 2]\n"
     ]
    },
    {
     "data": {
      "text/plain": [
       "5×2 Matrix{Any}:\n",
       " \"Animal\"   \"Legs\"\n",
       " \"Rabbit\"  4\n",
       " \"Dog\"     4\n",
       " \"Fish\"    0\n",
       " \"Human\"   2"
      ]
     },
     "execution_count": 28,
     "metadata": {},
     "output_type": "execute_result"
    }
   ],
   "source": [
    "@show XLSX.sheetnames(xf) # list all sheets\n",
    "\n",
    "sh = xf[\"Sheet2\"] # get a reference to a Worksheet\n",
    "\n",
    "@show sh[2, 1] # access element \"B2\" (2nd row, 2nd column)\n",
    "\n",
    "@show sh[\"A2\"] # you can also use the cell name\n",
    "\n",
    "@show sh[\"A2:B4\"] # or a cell range\n",
    "\n",
    "\n",
    "\n",
    "@show xf[\"DogCell\"] # get cell or range by name\n",
    "\n",
    "@show xf[\"Sheet2!A2:B4\"] # get range explicitly\n",
    "\n",
    "@show xf[\"Sheet2!A:B\"] # Column ranges are also supported"
   ]
  },
  {
   "cell_type": "code",
   "execution_count": 29,
   "id": "f7baac74",
   "metadata": {},
   "outputs": [
    {
     "data": {
      "text/plain": [
       "5×3 Matrix{Any}:\n",
       " \"Animal\"   \"Legs\"   \"Heads\"\n",
       " \"Rabbit\"  4        1\n",
       " \"Dog\"     4        1\n",
       " \"Fish\"    0        1\n",
       " \"Human\"   2        1"
      ]
     },
     "execution_count": 29,
     "metadata": {},
     "output_type": "execute_result"
    }
   ],
   "source": [
    "sh[:] # all data inside a worksheet's dimension"
   ]
  },
  {
   "cell_type": "code",
   "execution_count": 30,
   "id": "b9320604",
   "metadata": {},
   "outputs": [
    {
     "data": {
      "text/plain": [
       "3×2 Matrix{Any}:\n",
       " \"Rabbit\"  4\n",
       " \"Dog\"     4\n",
       " \"Fish\"    0"
      ]
     },
     "execution_count": 30,
     "metadata": {},
     "output_type": "execute_result"
    }
   ],
   "source": [
    "XLSX.readdata(\"ExcelFile.xlsx\", \"Sheet2\", \"A2:B4\") # shorthand for all above"
   ]
  },
  {
   "cell_type": "code",
   "execution_count": 31,
   "id": "c885ecae",
   "metadata": {},
   "outputs": [
    {
     "data": {
      "text/html": [
       "<table class=\"data-frame\"><thead><tr><th></th><th>Animal</th><th>Legs</th><th>Heads</th></tr><tr><th></th><th>Any</th><th>Any</th><th>Any</th></tr></thead><tbody><p>4 rows × 3 columns</p><tr><th>1</th><td>Rabbit</td><td>4</td><td>1</td></tr><tr><th>2</th><td>Dog</td><td>4</td><td>1</td></tr><tr><th>3</th><td>Fish</td><td>0</td><td>1</td></tr><tr><th>4</th><td>Human</td><td>2</td><td>1</td></tr></tbody></table>"
      ],
      "text/latex": [
       "\\begin{tabular}{r|ccc}\n",
       "\t& Animal & Legs & Heads\\\\\n",
       "\t\\hline\n",
       "\t& Any & Any & Any\\\\\n",
       "\t\\hline\n",
       "\t1 & Rabbit & 4 & 1 \\\\\n",
       "\t2 & Dog & 4 & 1 \\\\\n",
       "\t3 & Fish & 0 & 1 \\\\\n",
       "\t4 & Human & 2 & 1 \\\\\n",
       "\\end{tabular}\n"
      ],
      "text/plain": [
       "\u001b[1m4×3 DataFrame\u001b[0m\n",
       "\u001b[1m Row \u001b[0m│\u001b[1m Animal \u001b[0m\u001b[1m Legs \u001b[0m\u001b[1m Heads \u001b[0m\n",
       "\u001b[1m     \u001b[0m│\u001b[90m Any    \u001b[0m\u001b[90m Any  \u001b[0m\u001b[90m Any   \u001b[0m\n",
       "─────┼─────────────────────\n",
       "   1 │ Rabbit  4     1\n",
       "   2 │ Dog     4     1\n",
       "   3 │ Fish    0     1\n",
       "   4 │ Human   2     1"
      ]
     },
     "execution_count": 31,
     "metadata": {},
     "output_type": "execute_result"
    }
   ],
   "source": [
    "# Excel and DataFrames\n",
    "\n",
    "using DataFrames, XLSX\n",
    "\n",
    "df = DataFrame(XLSX.readtable(\"ExcelFile.xlsx\", \"Sheet2\")...)"
   ]
  },
  {
   "cell_type": "code",
   "execution_count": 32,
   "id": "e47e0567",
   "metadata": {},
   "outputs": [
    {
     "data": {
      "text/plain": [
       "(Any[Any[\"Rabbit\", \"Dog\", \"Fish\", \"Human\"], Any[4, 4, 0, 2], Any[1, 1, 1, 1]], [:Animal, :Legs, :Heads])"
      ]
     },
     "execution_count": 32,
     "metadata": {},
     "output_type": "execute_result"
    }
   ],
   "source": [
    "# To see the structure of the excel file\n",
    "\n",
    "columns, labels = XLSX.readtable(\"ExcelFile.xlsx\", \"Sheet2\")"
   ]
  },
  {
   "cell_type": "markdown",
   "id": "76907a88",
   "metadata": {},
   "source": [
    "Notes:\n",
    "\n",
    "enable_cache=false ( Always read from disk ==>  good for spreadsheets that are too big for memory)"
   ]
  },
  {
   "cell_type": "code",
   "execution_count": 33,
   "id": "e81c73b8",
   "metadata": {},
   "outputs": [
    {
     "name": "stdout",
     "output_type": "stream",
     "text": [
      "v1=Animal, v2=Legs, v3=Legs, v4=Heads\n",
      "v1=Rabbit, v2=4, v3=4, v4=1\n",
      "v1=Dog, v2=4, v3=4, v4=1\n",
      "v1=Fish, v2=0, v3=0, v4=1\n",
      "v1=Human, v2=2, v3=2, v4=1\n"
     ]
    }
   ],
   "source": [
    "# Cache disabled...\n",
    "\n",
    "XLSX.openxlsx(\"ExcelFile.xlsx\", enable_cache=false) do f\n",
    "  sheet = f[\"Sheet2\"]\n",
    "  for r in XLSX.eachrow(sheet)\n",
    "  \n",
    "    # r is a `SheetRow`, values are read \n",
    "    # using column references\n",
    "    rn = XLSX.row_number(r) # `SheetRow` row number\n",
    "    v1 = r[1]   # will read value at column 1\n",
    "    v2 = r[2]   # will read value at column 2\n",
    "    v3 = r[\"B\"]\n",
    "    v4 = r[3]\n",
    "    println(\"v1=$v1, v2=$v2, v3=$v3, v4=$v4\")\n",
    "  end\n",
    "end"
   ]
  },
  {
   "cell_type": "markdown",
   "id": "7bf94718",
   "metadata": {},
   "source": [
    "### Writing to Excel ###"
   ]
  },
  {
   "cell_type": "code",
   "execution_count": 34,
   "id": "86d3730e",
   "metadata": {},
   "outputs": [],
   "source": [
    "XLSX.openxlsx(\"ExcelFile.xlsx\", mode=\"rw\") do xf  # mode=\"w\" for brand new blank file\n",
    "    \n",
    "    sheet = xf[\"Sheet3\"]\n",
    "    \n",
    "    XLSX.rename!(sheet, \"new_sheet\")\n",
    "    \n",
    "    sheet[\"A1\"] = \"this\"\n",
    "    sheet[\"A2\"] = \"is\"\n",
    "    sheet[\"A3\"] = \"new data\"\n",
    "    sheet[\"A4\"] = 100\n",
    "    \n",
    "    # will add a row from \"A5\" to \"E5\"\n",
    "    sheet[\"A5\"] = collect(1:5) # equivalent to `sheet[\"A5\", dim=2] = collect(1:4)`\n",
    "\n",
    "    # will add a column from \"B1\" to \"B4\"\n",
    "    sheet[\"B1\", dim=1] = collect(1:4)\n",
    "\n",
    "    # will add a matrix from \"A7\" to \"C9\"\n",
    "    sheet[\"A7:C9\"] = [ 1 2 3 ; 4 5 6 ; 7 8 9 ]\n",
    "    \n",
    "    XLSX.rename!(sheet, \"Sheet3\")\n",
    "end"
   ]
  },
  {
   "cell_type": "code",
   "execution_count": 35,
   "id": "9709b479",
   "metadata": {},
   "outputs": [],
   "source": [
    "# Writing dataframes\n",
    "\n",
    "using Dates\n",
    "import DataFrames, XLSX\n",
    "df = DataFrames.DataFrame(integers=[1, 2, 3, 4], strings=[\"Hey\", \"You\", \"Out\", \"There\"], floats=[10.2, 20.3, 30.4, 40.5], dates=[Date(2018,2,20), Date(2018,2,21), Date(2018,2,22), Date(2018,2,23)], times=[Dates.Time(19,10), Dates.Time(19,20), Dates.Time(19,30), Dates.Time(19,40)], datetimes=[Dates.DateTime(2018,5,20,19,10), Dates.DateTime(2018,5,20,19,20), Dates.DateTime(2018,5,20,19,30), Dates.DateTime(2018,5,20,19,40)])\n",
    "\n",
    "\n",
    "# Writetable( \n",
    "#   filename, \n",
    "#   vector of columns, \n",
    "#   vector of names, \n",
    "#   overwrite(optional), \n",
    "#   sheetname(optional))\n",
    "XLSX.writetable(\"ExcelFile2.xlsx\", collect(DataFrames.eachcol(df)), DataFrames.names(df), overwrite=true, sheetname=\"TestSheet\")"
   ]
  },
  {
   "cell_type": "code",
   "execution_count": 37,
   "id": "18373dcc",
   "metadata": {},
   "outputs": [],
   "source": [
    "# Writing multiple structures into two sheets\n",
    "\n",
    "df1 = DataFrames.DataFrame(COL1=[10,20,30], COL2=[\"Fist\", \"Sec\", \"Third\"])\n",
    "df2 = DataFrames.DataFrame(AA=[\"aa\", \"bb\"], AB=[10.1, 10.2])\n",
    "XLSX.writetable(\"ExcelFile4.xlsx\", REPORT_A=( collect(DataFrames.eachcol(df1)), DataFrames.names(df1) ), REPORT_B=( collect(DataFrames.eachcol(df2)), DataFrames.names(df2) ))"
   ]
  },
  {
   "cell_type": "markdown",
   "id": "50255384",
   "metadata": {},
   "source": [
    "## Working with JSON ##"
   ]
  },
  {
   "cell_type": "markdown",
   "id": "8f6e54d0",
   "metadata": {},
   "source": [
    "<B>Example:</b>\n",
    "\n",
    "    {\"menu\": {\n",
    "      \"id\": \"file\",\n",
    "      \"value\": \"File\",\n",
    "      \"popup\": {\n",
    "        \"menuitem\": [\n",
    "          {\"value\": \"New\", \"onclick\": \"CreateNewDoc()\"},\n",
    "          {\"value\": \"Open\", \"onclick\": \"OpenDoc()\"},\n",
    "          {\"value\": \"Close\", \"onclick\": \"CloseDoc()\"}\n",
    "        ]\n",
    "      }\n",
    "    }}"
   ]
  },
  {
   "cell_type": "code",
   "execution_count": 23,
   "id": "stainless-feature",
   "metadata": {},
   "outputs": [
    {
     "name": "stdout",
     "output_type": "stream",
     "text": [
      "hello, world\n",
      "1\n"
     ]
    },
    {
     "data": {
      "text/plain": [
       "\"{\\\"a\\\":1,\\\"b\\\":\\\"hello, world\\\"}\""
      ]
     },
     "execution_count": 23,
     "metadata": {},
     "output_type": "execute_result"
    }
   ],
   "source": [
    "#using Pkg; Pkg.add(\"JSON3\")\n",
    "using JSON3\n",
    "\n",
    "# Create a JSON string\n",
    "json_string = \"\"\"{\"a\": 1, \"b\": \"hello, world\"}\"\"\"\n",
    "\n",
    "hello_world = JSON3.read(json_string)\n",
    "\n",
    "# can access the fields with dot or bracket notation\n",
    "println(hello_world.b)\n",
    "println(hello_world[\"a\"])\n",
    "\n",
    "# Write JSON out\n",
    "JSON3.write(hello_world)"
   ]
  },
  {
   "cell_type": "code",
   "execution_count": 24,
   "id": "76200f40",
   "metadata": {},
   "outputs": [
    {
     "name": "stdout",
     "output_type": "stream",
     "text": [
      "{\n",
      "   \"a\": 1,\n",
      "   \"b\": \"hello, world\"\n",
      "}"
     ]
    }
   ],
   "source": [
    "# Pretty print\n",
    "\n",
    "JSON3.pretty(JSON3.write(hello_world))"
   ]
  },
  {
   "cell_type": "code",
   "execution_count": 25,
   "id": "625ea7a4",
   "metadata": {},
   "outputs": [
    {
     "data": {
      "text/plain": [
       "JSON3.Object{Base.CodeUnits{UInt8, String}, Vector{UInt64}} with 2 entries:\n",
       "  :a => 1\n",
       "  :b => \"hello, world\""
      ]
     },
     "execution_count": 25,
     "metadata": {},
     "output_type": "execute_result"
    }
   ],
   "source": [
    "# Read and write from/to a file\n",
    "\n",
    "open(\"file.json\", \"w+\") do io\n",
    "    JSON3.pretty(io, hello_world)  # pretty print rather than just write\n",
    "end\n",
    "\n",
    "json_string = read(\"file.json\", String)\n",
    "\n",
    "hello_world = JSON3.read(json_string)\n",
    "\n"
   ]
  },
  {
   "cell_type": "markdown",
   "id": "outside-matter",
   "metadata": {},
   "source": [
    "## Working with HTML/XML ##\n",
    "\n",
    "There are a number of XML packages. The most recommended one seems to be EzXML. LightXML seems to be another popular package.\n",
    "\n",
    "<b>Example:</b>\n",
    "\n",
    "    <menu id=\"file\" value=\"File\">\n",
    "      <popup>\n",
    "        <menuitem value=\"New\" onclick=\"CreateNewDoc()\" />\n",
    "        <menuitem value=\"Open\" onclick=\"OpenDoc()\" />\n",
    "        <menuitem value=\"Close\" onclick=\"CloseDoc()\" />\n",
    "      </popup>\n",
    "    </menu>"
   ]
  },
  {
   "cell_type": "code",
   "execution_count": 26,
   "id": "a822d4d5",
   "metadata": {},
   "outputs": [
    {
     "name": "stdout",
     "output_type": "stream",
     "text": [
      "- Homo\n",
      "  └ sapiens (Human)\n",
      "- Pan\n",
      "  └ paniscus (Bonobo)\n",
      "  └ troglodytes (Chimpanzee)\n",
      "\n",
      "- Human\n",
      "- Bonobo\n",
      "- Chimpanzee\n"
     ]
    }
   ],
   "source": [
    "#using Pkg; Pkg.add(\"EzXML\")\n",
    "using EzXML\n",
    "\n",
    "# Parse an XML string\n",
    "# (use `readxml(<filename>)` to read a document from a file).\n",
    "doc = parsexml(\"\"\"\n",
    "<primates>\n",
    "    <genus name=\"Homo\">\n",
    "        <species name=\"sapiens\">Human</species>\n",
    "    </genus>\n",
    "    <genus name=\"Pan\">\n",
    "        <species name=\"paniscus\">Bonobo</species>\n",
    "        <species name=\"troglodytes\">Chimpanzee</species>\n",
    "    </genus>\n",
    "</primates>\n",
    "\"\"\")\n",
    "\n",
    "# Get the root element from `doc`.\n",
    "primates = root(doc)  # or `doc.root`\n",
    "\n",
    "# Iterate over child elements.\n",
    "for genus in eachelement(primates)\n",
    "    # Get an attribute value by name.\n",
    "    genus_name = genus[\"name\"]\n",
    "    println(\"- \", genus_name)\n",
    "    for species in eachelement(genus)\n",
    "        # Get the content within an element.\n",
    "        species_name = nodecontent(species)  # or `species.content`\n",
    "        println(\"  └ \", species[\"name\"], \" (\", species_name, \")\")\n",
    "    end\n",
    "end\n",
    "println()\n",
    "\n",
    "# Find texts using XPath query.\n",
    "for species_name in nodecontent.(findall(\"//species/text()\", primates))\n",
    "    println(\"- \", species_name)\n",
    "end"
   ]
  },
  {
   "cell_type": "code",
   "execution_count": null,
   "id": "0bb2e5fa",
   "metadata": {},
   "outputs": [],
   "source": []
  }
 ],
 "metadata": {
  "kernelspec": {
   "display_name": "Julia 1.6.1",
   "language": "julia",
   "name": "julia-1.6"
  },
  "language_info": {
   "file_extension": ".jl",
   "mimetype": "application/julia",
   "name": "julia",
   "version": "1.6.1"
  }
 },
 "nbformat": 4,
 "nbformat_minor": 5
}
